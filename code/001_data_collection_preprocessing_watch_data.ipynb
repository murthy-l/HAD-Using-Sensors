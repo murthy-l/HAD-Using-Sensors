{
 "cells": [
  {
   "cell_type": "markdown",
   "id": "b1a15988-3494-4641-8d3e-1c1da419a417",
   "metadata": {},
   "source": [
    "# Detecting Human Activities Through Smartwatch Sensor - Preprocesing"
   ]
  },
  {
   "cell_type": "markdown",
   "id": "4ab532a0-f265-4411-a510-ebcefb72d0f4",
   "metadata": {},
   "source": [
    "- Data set source:  WISDM Lab of Frodham University, NY\n",
    "https://archive.ics.uci.edu/dataset/507/wisdm+smartphone+and+smartwatch+activity+and+biometrics+dataset"
   ]
  },
  {
   "cell_type": "markdown",
   "id": "b0dac7ad-e017-4ba6-a5f9-8368b6842db3",
   "metadata": {},
   "source": [
    "Data captured using\n",
    "\n",
    "- Two kinds of devices:\n",
    "    - Smartphone (Samsung Galaxy S5)\n",
    "    - Smartwatch (LG G)\n",
    "\n",
    "    \n",
    "- Two kinds of embedded kinematic sensors (for each device):\n",
    "    - Accelerometer - for measurement of linear acceleration (m/sec^2)\n",
    "    - Gyroscope - for measurement of angular velocity (rad/sec)\n"
   ]
  },
  {
   "cell_type": "code",
   "execution_count": 1,
   "id": "27ec0498-7c59-47a3-beb0-33e12d0b8c19",
   "metadata": {},
   "outputs": [],
   "source": [
    "import pandas as pd\n",
    "import numpy as np\n",
    "from matplotlib import pyplot as plt\n",
    "import glob\n",
    "from tqdm import tqdm\n",
    "import filecmp\n",
    "\n",
    "PBAR_FORMAT='{desc:12}{percentage:3.0f}%|{bar:27}[ {n:4d}/{total:4d}, {elapsed}<{remaining}{postfix} ]'"
   ]
  },
  {
   "cell_type": "markdown",
   "id": "0a2dd934-d521-44d8-a2f7-421c74ff83cb",
   "metadata": {},
   "source": [
    "Each activity is represented as an alphabet in the dataset. To make meaningful inference of data we map it to actual activity"
   ]
  },
  {
   "cell_type": "code",
   "execution_count": 2,
   "id": "171888aa-fa41-493e-a7a4-28aedd5bfe71",
   "metadata": {},
   "outputs": [],
   "source": [
    "activity_codes_mapping = {'A': 'walking',\n",
    "                          'B': 'jogging',\n",
    "                          'C': 'stairs',\n",
    "                          'D': 'sitting',\n",
    "                          'E': 'standing',\n",
    "                          'F': 'typing',\n",
    "                          'G': 'brushing teeth',\n",
    "                          'H': 'eating soup',\n",
    "                          'I': 'eating chips',\n",
    "                          'J': 'eating pasta',\n",
    "                          'K': 'drinking from cup',\n",
    "                          'L': 'eating sandwich',\n",
    "                          'M': 'kicking soccer ball',\n",
    "                          'O': 'playing catch tennis ball',\n",
    "                          'P': 'dribbling basket ball',\n",
    "                          'Q': 'writing',\n",
    "                          'R': 'clapping',\n",
    "                          'S': 'folding clothes'}"
   ]
  },
  {
   "cell_type": "markdown",
   "id": "73f2e7cb-5612-4a30-80ab-77cfc279e65a",
   "metadata": {},
   "source": [
    "# Dataset understanding"
   ]
  },
  {
   "cell_type": "markdown",
   "id": "d261835f-a52b-4dc4-a1d1-b7368562dca7",
   "metadata": {},
   "source": [
    "## Watch Accelerometer"
   ]
  },
  {
   "cell_type": "markdown",
   "id": "369c8531-2f36-48ef-9636-7f5eff037f2c",
   "metadata": {},
   "source": [
    "- Load the phone accelerometer sensor data for participant 1"
   ]
  },
  {
   "cell_type": "code",
   "execution_count": 3,
   "id": "1023bed1-defd-42ce-9abe-5114a49be30d",
   "metadata": {},
   "outputs": [
    {
     "name": "stdout",
     "output_type": "stream",
     "text": [
      "<class 'pandas.core.frame.DataFrame'>\n",
      "RangeIndex: 64840 entries, 0 to 64839\n",
      "Data columns (total 6 columns):\n",
      " #   Column          Non-Null Count  Dtype  \n",
      "---  ------          --------------  -----  \n",
      " 0   participant_id  64840 non-null  int64  \n",
      " 1   activity_code   64840 non-null  object \n",
      " 2   timestamp       64840 non-null  int64  \n",
      " 3   x               64840 non-null  float64\n",
      " 4   y               64840 non-null  float64\n",
      " 5   z               64840 non-null  object \n",
      "dtypes: float64(2), int64(2), object(2)\n",
      "memory usage: 3.0+ MB\n",
      "None\n"
     ]
    },
    {
     "data": {
      "text/html": [
       "<div>\n",
       "<style scoped>\n",
       "    .dataframe tbody tr th:only-of-type {\n",
       "        vertical-align: middle;\n",
       "    }\n",
       "\n",
       "    .dataframe tbody tr th {\n",
       "        vertical-align: top;\n",
       "    }\n",
       "\n",
       "    .dataframe thead th {\n",
       "        text-align: right;\n",
       "    }\n",
       "</style>\n",
       "<table border=\"1\" class=\"dataframe\">\n",
       "  <thead>\n",
       "    <tr style=\"text-align: right;\">\n",
       "      <th></th>\n",
       "      <th>participant_id</th>\n",
       "      <th>activity_code</th>\n",
       "      <th>timestamp</th>\n",
       "      <th>x</th>\n",
       "      <th>y</th>\n",
       "      <th>z</th>\n",
       "    </tr>\n",
       "  </thead>\n",
       "  <tbody>\n",
       "    <tr>\n",
       "      <th>0</th>\n",
       "      <td>1601</td>\n",
       "      <td>A</td>\n",
       "      <td>1896411611733301</td>\n",
       "      <td>-2.969708</td>\n",
       "      <td>-1.949329</td>\n",
       "      <td>10.726623;</td>\n",
       "    </tr>\n",
       "    <tr>\n",
       "      <th>1</th>\n",
       "      <td>1601</td>\n",
       "      <td>A</td>\n",
       "      <td>1896411661695801</td>\n",
       "      <td>-3.486855</td>\n",
       "      <td>-2.420987</td>\n",
       "      <td>11.660361;</td>\n",
       "    </tr>\n",
       "    <tr>\n",
       "      <th>2</th>\n",
       "      <td>1601</td>\n",
       "      <td>A</td>\n",
       "      <td>1896411711658874</td>\n",
       "      <td>-2.826056</td>\n",
       "      <td>-2.854338</td>\n",
       "      <td>9.792884;</td>\n",
       "    </tr>\n",
       "    <tr>\n",
       "      <th>3</th>\n",
       "      <td>1601</td>\n",
       "      <td>A</td>\n",
       "      <td>1896411761623926</td>\n",
       "      <td>-3.307290</td>\n",
       "      <td>-3.076998</td>\n",
       "      <td>9.926959;</td>\n",
       "    </tr>\n",
       "    <tr>\n",
       "      <th>4</th>\n",
       "      <td>1601</td>\n",
       "      <td>A</td>\n",
       "      <td>1896411811593717</td>\n",
       "      <td>-3.996820</td>\n",
       "      <td>-2.847155</td>\n",
       "      <td>9.280524;</td>\n",
       "    </tr>\n",
       "  </tbody>\n",
       "</table>\n",
       "</div>"
      ],
      "text/plain": [
       "   participant_id activity_code         timestamp         x         y  \\\n",
       "0            1601             A  1896411611733301 -2.969708 -1.949329   \n",
       "1            1601             A  1896411661695801 -3.486855 -2.420987   \n",
       "2            1601             A  1896411711658874 -2.826056 -2.854338   \n",
       "3            1601             A  1896411761623926 -3.307290 -3.076998   \n",
       "4            1601             A  1896411811593717 -3.996820 -2.847155   \n",
       "\n",
       "            z  \n",
       "0  10.726623;  \n",
       "1  11.660361;  \n",
       "2   9.792884;  \n",
       "3   9.926959;  \n",
       "4   9.280524;  "
      ]
     },
     "execution_count": 3,
     "metadata": {},
     "output_type": "execute_result"
    }
   ],
   "source": [
    "df_wa_p01 = pd.read_csv(r'../dataset/raw/watch/accel/data_1601_accel_watch.txt', names = ['participant_id' , 'activity_code' , 'timestamp', 'x', 'y', 'z'], index_col=None, header=None)\n",
    "print(df_wa_p01.info())\n",
    "df_wa_p01.head()"
   ]
  },
  {
   "cell_type": "markdown",
   "id": "7d6ca0fc-3a26-4637-a6f0-5aa8461ebb60",
   "metadata": {},
   "source": [
    "    - Observation\n",
    "        - Most of the data are numeric except for z column"
   ]
  },
  {
   "cell_type": "markdown",
   "id": "8c9bcd92-a08f-4c79-886d-8146c0260875",
   "metadata": {},
   "source": [
    "- Load the watch accelerometer sensor data for participant 2"
   ]
  },
  {
   "cell_type": "code",
   "execution_count": 4,
   "id": "aa422668-d0ec-4b0b-8cc9-117277a58700",
   "metadata": {},
   "outputs": [
    {
     "name": "stdout",
     "output_type": "stream",
     "text": [
      "<class 'pandas.core.frame.DataFrame'>\n",
      "RangeIndex: 64840 entries, 0 to 64839\n",
      "Data columns (total 6 columns):\n",
      " #   Column          Non-Null Count  Dtype  \n",
      "---  ------          --------------  -----  \n",
      " 0   participant_id  64840 non-null  int64  \n",
      " 1   activity_code   64840 non-null  object \n",
      " 2   timestamp       64840 non-null  int64  \n",
      " 3   x               64840 non-null  float64\n",
      " 4   y               64840 non-null  float64\n",
      " 5   z               64840 non-null  object \n",
      "dtypes: float64(2), int64(2), object(2)\n",
      "memory usage: 3.0+ MB\n",
      "None\n"
     ]
    },
    {
     "data": {
      "text/html": [
       "<div>\n",
       "<style scoped>\n",
       "    .dataframe tbody tr th:only-of-type {\n",
       "        vertical-align: middle;\n",
       "    }\n",
       "\n",
       "    .dataframe tbody tr th {\n",
       "        vertical-align: top;\n",
       "    }\n",
       "\n",
       "    .dataframe thead th {\n",
       "        text-align: right;\n",
       "    }\n",
       "</style>\n",
       "<table border=\"1\" class=\"dataframe\">\n",
       "  <thead>\n",
       "    <tr style=\"text-align: right;\">\n",
       "      <th></th>\n",
       "      <th>participant_id</th>\n",
       "      <th>activity_code</th>\n",
       "      <th>timestamp</th>\n",
       "      <th>x</th>\n",
       "      <th>y</th>\n",
       "      <th>z</th>\n",
       "    </tr>\n",
       "  </thead>\n",
       "  <tbody>\n",
       "    <tr>\n",
       "      <th>0</th>\n",
       "      <td>1601</td>\n",
       "      <td>A</td>\n",
       "      <td>1896411611733301</td>\n",
       "      <td>-2.969708</td>\n",
       "      <td>-1.949329</td>\n",
       "      <td>10.726623;</td>\n",
       "    </tr>\n",
       "    <tr>\n",
       "      <th>1</th>\n",
       "      <td>1601</td>\n",
       "      <td>A</td>\n",
       "      <td>1896411661695801</td>\n",
       "      <td>-3.486855</td>\n",
       "      <td>-2.420987</td>\n",
       "      <td>11.660361;</td>\n",
       "    </tr>\n",
       "    <tr>\n",
       "      <th>2</th>\n",
       "      <td>1601</td>\n",
       "      <td>A</td>\n",
       "      <td>1896411711658874</td>\n",
       "      <td>-2.826056</td>\n",
       "      <td>-2.854338</td>\n",
       "      <td>9.792884;</td>\n",
       "    </tr>\n",
       "    <tr>\n",
       "      <th>3</th>\n",
       "      <td>1601</td>\n",
       "      <td>A</td>\n",
       "      <td>1896411761623926</td>\n",
       "      <td>-3.307290</td>\n",
       "      <td>-3.076998</td>\n",
       "      <td>9.926959;</td>\n",
       "    </tr>\n",
       "    <tr>\n",
       "      <th>4</th>\n",
       "      <td>1601</td>\n",
       "      <td>A</td>\n",
       "      <td>1896411811593717</td>\n",
       "      <td>-3.996820</td>\n",
       "      <td>-2.847155</td>\n",
       "      <td>9.280524;</td>\n",
       "    </tr>\n",
       "  </tbody>\n",
       "</table>\n",
       "</div>"
      ],
      "text/plain": [
       "   participant_id activity_code         timestamp         x         y  \\\n",
       "0            1601             A  1896411611733301 -2.969708 -1.949329   \n",
       "1            1601             A  1896411661695801 -3.486855 -2.420987   \n",
       "2            1601             A  1896411711658874 -2.826056 -2.854338   \n",
       "3            1601             A  1896411761623926 -3.307290 -3.076998   \n",
       "4            1601             A  1896411811593717 -3.996820 -2.847155   \n",
       "\n",
       "            z  \n",
       "0  10.726623;  \n",
       "1  11.660361;  \n",
       "2   9.792884;  \n",
       "3   9.926959;  \n",
       "4   9.280524;  "
      ]
     },
     "execution_count": 4,
     "metadata": {},
     "output_type": "execute_result"
    }
   ],
   "source": [
    "df_wa_p02 = pd.read_csv(r'../dataset/raw/watch/accel/data_1601_accel_watch.txt', names = ['participant_id' , 'activity_code' , 'timestamp', 'x', 'y', 'z'], index_col=None, header=None)\n",
    "print(df_wa_p02.info())\n",
    "df_wa_p02.head()"
   ]
  },
  {
   "cell_type": "markdown",
   "id": "9c7609c1-de17-441d-b9c3-9c55024b5c20",
   "metadata": {},
   "source": [
    "    - Observation\n",
    "        - Most of the data are numeric except for z column"
   ]
  },
  {
   "cell_type": "markdown",
   "id": "4b40f2ca-6556-46c2-9c38-da2b2ccbf1f7",
   "metadata": {},
   "source": [
    "- Lets confirm is the remaining participants data is also similar dtype "
   ]
  },
  {
   "cell_type": "code",
   "execution_count": 5,
   "id": "0d066d27-0812-4fa1-be8a-30f3a7633746",
   "metadata": {},
   "outputs": [
    {
     "name": "stderr",
     "output_type": "stream",
     "text": [
      "Checking    100%|███████████████████████████[   51/  51, 00:02<00:00 ]\n"
     ]
    }
   ],
   "source": [
    "for file_name in tqdm(glob.glob(r'../dataset/raw/watch/accel/data_*_accel_watch.txt'),\n",
    "                      desc=\"Checking\",\n",
    "                     bar_format=PBAR_FORMAT):\n",
    "    df_wa = pd.read_csv(file_name, names = ['participant_id' , 'activity_code' , 'timestamp', 'x', 'y', 'z'], index_col=None, header=None)\n",
    "    if (df_wa.dtypes != df_wa_p01.dtypes).any():\n",
    "        print(f\"mismatch in df for file {file_name}\")"
   ]
  },
  {
   "cell_type": "markdown",
   "id": "db052ced-a100-4809-b963-1667258d4624",
   "metadata": {},
   "source": [
    "    - Observation:\n",
    "          - All data csv's have same data type as that of participant 1"
   ]
  },
  {
   "cell_type": "markdown",
   "id": "5e05f2b4-2b9b-4a3a-804f-00ea38e15058",
   "metadata": {},
   "source": [
    "- Check for missing values in csv files"
   ]
  },
  {
   "cell_type": "code",
   "execution_count": 6,
   "id": "99ee2b6a-7406-451f-9e99-52899886674a",
   "metadata": {},
   "outputs": [
    {
     "name": "stderr",
     "output_type": "stream",
     "text": [
      "Checking    100%|███████████████████████████[   51/  51, 00:02<00:00 ]\n"
     ]
    }
   ],
   "source": [
    "for file_name in tqdm(glob.glob(r'../dataset/raw/watch/accel/data_*_accel_watch.txt'),\n",
    "                      desc=\"Checking\",\n",
    "                     bar_format=PBAR_FORMAT):\n",
    "    df_wa = pd.read_csv(file_name, names = ['participant_id' , 'activity_code' , 'timestamp', 'x', 'y', 'z'], index_col=None, header=None)\n",
    "    if (df_wa.notnull().any().any() == False):\n",
    "        print(\"missing value present\")"
   ]
  },
  {
   "cell_type": "markdown",
   "id": "266199e5-be96-48f9-a7da-dfd9074d5262",
   "metadata": {},
   "source": [
    "    - Observation:\n",
    "          - All data csv's have no missing values"
   ]
  },
  {
   "cell_type": "markdown",
   "id": "d46df318-d706-46d3-8759-1fdffa374347",
   "metadata": {},
   "source": [
    "- Converting z column to float, and add activity column for easy inference"
   ]
  },
  {
   "cell_type": "code",
   "execution_count": 13,
   "id": "85a540d1-fd91-46aa-84e6-cc80e718b51e",
   "metadata": {},
   "outputs": [],
   "source": [
    "df_wa_p01.z = df_wa_p01.z.str.strip(';')\n",
    "df_wa_p01.z = pd.to_numeric(df_wa_p01.z)"
   ]
  },
  {
   "cell_type": "code",
   "execution_count": 14,
   "id": "dd47af8e-bcd8-4865-8a8a-78f4c93f7bdd",
   "metadata": {},
   "outputs": [
    {
     "data": {
      "text/html": [
       "<div>\n",
       "<style scoped>\n",
       "    .dataframe tbody tr th:only-of-type {\n",
       "        vertical-align: middle;\n",
       "    }\n",
       "\n",
       "    .dataframe tbody tr th {\n",
       "        vertical-align: top;\n",
       "    }\n",
       "\n",
       "    .dataframe thead th {\n",
       "        text-align: right;\n",
       "    }\n",
       "</style>\n",
       "<table border=\"1\" class=\"dataframe\">\n",
       "  <thead>\n",
       "    <tr style=\"text-align: right;\">\n",
       "      <th></th>\n",
       "      <th>participant_id</th>\n",
       "      <th>activity_code</th>\n",
       "      <th>activity</th>\n",
       "      <th>timestamp</th>\n",
       "      <th>x</th>\n",
       "      <th>y</th>\n",
       "      <th>z</th>\n",
       "    </tr>\n",
       "  </thead>\n",
       "  <tbody>\n",
       "    <tr>\n",
       "      <th>0</th>\n",
       "      <td>1601</td>\n",
       "      <td>A</td>\n",
       "      <td>walking</td>\n",
       "      <td>1896411611733301</td>\n",
       "      <td>-2.969708</td>\n",
       "      <td>-1.949329</td>\n",
       "      <td>10.726623</td>\n",
       "    </tr>\n",
       "    <tr>\n",
       "      <th>1</th>\n",
       "      <td>1601</td>\n",
       "      <td>A</td>\n",
       "      <td>walking</td>\n",
       "      <td>1896411661695801</td>\n",
       "      <td>-3.486855</td>\n",
       "      <td>-2.420987</td>\n",
       "      <td>11.660361</td>\n",
       "    </tr>\n",
       "    <tr>\n",
       "      <th>2</th>\n",
       "      <td>1601</td>\n",
       "      <td>A</td>\n",
       "      <td>walking</td>\n",
       "      <td>1896411711658874</td>\n",
       "      <td>-2.826056</td>\n",
       "      <td>-2.854338</td>\n",
       "      <td>9.792884</td>\n",
       "    </tr>\n",
       "    <tr>\n",
       "      <th>3</th>\n",
       "      <td>1601</td>\n",
       "      <td>A</td>\n",
       "      <td>walking</td>\n",
       "      <td>1896411761623926</td>\n",
       "      <td>-3.307290</td>\n",
       "      <td>-3.076998</td>\n",
       "      <td>9.926959</td>\n",
       "    </tr>\n",
       "    <tr>\n",
       "      <th>4</th>\n",
       "      <td>1601</td>\n",
       "      <td>A</td>\n",
       "      <td>walking</td>\n",
       "      <td>1896411811593717</td>\n",
       "      <td>-3.996820</td>\n",
       "      <td>-2.847155</td>\n",
       "      <td>9.280524</td>\n",
       "    </tr>\n",
       "    <tr>\n",
       "      <th>...</th>\n",
       "      <td>...</td>\n",
       "      <td>...</td>\n",
       "      <td>...</td>\n",
       "      <td>...</td>\n",
       "      <td>...</td>\n",
       "      <td>...</td>\n",
       "      <td>...</td>\n",
       "    </tr>\n",
       "    <tr>\n",
       "      <th>64835</th>\n",
       "      <td>1601</td>\n",
       "      <td>S</td>\n",
       "      <td>folding clothes</td>\n",
       "      <td>1890263664188560</td>\n",
       "      <td>7.785346</td>\n",
       "      <td>-2.825756</td>\n",
       "      <td>11.020660</td>\n",
       "    </tr>\n",
       "    <tr>\n",
       "      <th>64836</th>\n",
       "      <td>1601</td>\n",
       "      <td>S</td>\n",
       "      <td>folding clothes</td>\n",
       "      <td>1890263714160022</td>\n",
       "      <td>5.726332</td>\n",
       "      <td>-1.128267</td>\n",
       "      <td>12.821099</td>\n",
       "    </tr>\n",
       "    <tr>\n",
       "      <th>64837</th>\n",
       "      <td>1601</td>\n",
       "      <td>S</td>\n",
       "      <td>folding clothes</td>\n",
       "      <td>1890263764099780</td>\n",
       "      <td>6.719925</td>\n",
       "      <td>-2.854487</td>\n",
       "      <td>12.031014</td>\n",
       "    </tr>\n",
       "    <tr>\n",
       "      <th>64838</th>\n",
       "      <td>1601</td>\n",
       "      <td>S</td>\n",
       "      <td>folding clothes</td>\n",
       "      <td>1890263814039267</td>\n",
       "      <td>8.802881</td>\n",
       "      <td>-2.334945</td>\n",
       "      <td>9.308805</td>\n",
       "    </tr>\n",
       "    <tr>\n",
       "      <th>64839</th>\n",
       "      <td>1601</td>\n",
       "      <td>S</td>\n",
       "      <td>folding clothes</td>\n",
       "      <td>1890263863976350</td>\n",
       "      <td>14.122797</td>\n",
       "      <td>-0.079607</td>\n",
       "      <td>4.846014</td>\n",
       "    </tr>\n",
       "  </tbody>\n",
       "</table>\n",
       "<p>64840 rows × 7 columns</p>\n",
       "</div>"
      ],
      "text/plain": [
       "       participant_id activity_code         activity         timestamp  \\\n",
       "0                1601             A          walking  1896411611733301   \n",
       "1                1601             A          walking  1896411661695801   \n",
       "2                1601             A          walking  1896411711658874   \n",
       "3                1601             A          walking  1896411761623926   \n",
       "4                1601             A          walking  1896411811593717   \n",
       "...               ...           ...              ...               ...   \n",
       "64835            1601             S  folding clothes  1890263664188560   \n",
       "64836            1601             S  folding clothes  1890263714160022   \n",
       "64837            1601             S  folding clothes  1890263764099780   \n",
       "64838            1601             S  folding clothes  1890263814039267   \n",
       "64839            1601             S  folding clothes  1890263863976350   \n",
       "\n",
       "               x         y          z  \n",
       "0      -2.969708 -1.949329  10.726623  \n",
       "1      -3.486855 -2.420987  11.660361  \n",
       "2      -2.826056 -2.854338   9.792884  \n",
       "3      -3.307290 -3.076998   9.926959  \n",
       "4      -3.996820 -2.847155   9.280524  \n",
       "...          ...       ...        ...  \n",
       "64835   7.785346 -2.825756  11.020660  \n",
       "64836   5.726332 -1.128267  12.821099  \n",
       "64837   6.719925 -2.854487  12.031014  \n",
       "64838   8.802881 -2.334945   9.308805  \n",
       "64839  14.122797 -0.079607   4.846014  \n",
       "\n",
       "[64840 rows x 7 columns]"
      ]
     },
     "execution_count": 14,
     "metadata": {},
     "output_type": "execute_result"
    }
   ],
   "source": [
    "df_wa_p01['activity'] = df_wa_p01['activity_code'].map(activity_codes_mapping)\n",
    "df_wa_p01 = df_wa_p01[['participant_id', 'activity_code', 'activity', 'timestamp', 'x', 'y', 'z']]\n",
    "\n",
    "df_wa_p01"
   ]
  },
  {
   "cell_type": "markdown",
   "id": "80975f02-4b6d-4888-86d3-dcb82cdff9a0",
   "metadata": {},
   "source": [
    "## Watch Gyroscope"
   ]
  },
  {
   "cell_type": "code",
   "execution_count": 7,
   "id": "32cb8e6e-9a7e-4176-b8ce-f23027b79084",
   "metadata": {},
   "outputs": [
    {
     "name": "stdout",
     "output_type": "stream",
     "text": [
      "<class 'pandas.core.frame.DataFrame'>\n",
      "RangeIndex: 64829 entries, 0 to 64828\n",
      "Data columns (total 6 columns):\n",
      " #   Column          Non-Null Count  Dtype  \n",
      "---  ------          --------------  -----  \n",
      " 0   participant_id  64829 non-null  int64  \n",
      " 1   activity_code   64829 non-null  object \n",
      " 2   timestamp       64829 non-null  int64  \n",
      " 3   x               64829 non-null  float64\n",
      " 4   y               64829 non-null  float64\n",
      " 5   z               64829 non-null  object \n",
      "dtypes: float64(2), int64(2), object(2)\n",
      "memory usage: 3.0+ MB\n",
      "None\n"
     ]
    },
    {
     "data": {
      "text/html": [
       "<div>\n",
       "<style scoped>\n",
       "    .dataframe tbody tr th:only-of-type {\n",
       "        vertical-align: middle;\n",
       "    }\n",
       "\n",
       "    .dataframe tbody tr th {\n",
       "        vertical-align: top;\n",
       "    }\n",
       "\n",
       "    .dataframe thead th {\n",
       "        text-align: right;\n",
       "    }\n",
       "</style>\n",
       "<table border=\"1\" class=\"dataframe\">\n",
       "  <thead>\n",
       "    <tr style=\"text-align: right;\">\n",
       "      <th></th>\n",
       "      <th>participant_id</th>\n",
       "      <th>activity_code</th>\n",
       "      <th>timestamp</th>\n",
       "      <th>x</th>\n",
       "      <th>y</th>\n",
       "      <th>z</th>\n",
       "    </tr>\n",
       "  </thead>\n",
       "  <tbody>\n",
       "    <tr>\n",
       "      <th>0</th>\n",
       "      <td>1601</td>\n",
       "      <td>A</td>\n",
       "      <td>1896411611733301</td>\n",
       "      <td>0.703360</td>\n",
       "      <td>-0.436308</td>\n",
       "      <td>-0.9538892;</td>\n",
       "    </tr>\n",
       "    <tr>\n",
       "      <th>1</th>\n",
       "      <td>1601</td>\n",
       "      <td>A</td>\n",
       "      <td>1896411661695801</td>\n",
       "      <td>0.254884</td>\n",
       "      <td>-0.424590</td>\n",
       "      <td>-0.99330395;</td>\n",
       "    </tr>\n",
       "    <tr>\n",
       "      <th>2</th>\n",
       "      <td>1601</td>\n",
       "      <td>A</td>\n",
       "      <td>1896411711658874</td>\n",
       "      <td>0.301756</td>\n",
       "      <td>-0.222190</td>\n",
       "      <td>-0.9496281;</td>\n",
       "    </tr>\n",
       "    <tr>\n",
       "      <th>3</th>\n",
       "      <td>1601</td>\n",
       "      <td>A</td>\n",
       "      <td>1896411761623926</td>\n",
       "      <td>0.287907</td>\n",
       "      <td>-0.141230</td>\n",
       "      <td>-1.0955694;</td>\n",
       "    </tr>\n",
       "    <tr>\n",
       "      <th>4</th>\n",
       "      <td>1601</td>\n",
       "      <td>A</td>\n",
       "      <td>1896411811593717</td>\n",
       "      <td>0.402956</td>\n",
       "      <td>0.272093</td>\n",
       "      <td>-1.0060872;</td>\n",
       "    </tr>\n",
       "  </tbody>\n",
       "</table>\n",
       "</div>"
      ],
      "text/plain": [
       "   participant_id activity_code         timestamp         x         y  \\\n",
       "0            1601             A  1896411611733301  0.703360 -0.436308   \n",
       "1            1601             A  1896411661695801  0.254884 -0.424590   \n",
       "2            1601             A  1896411711658874  0.301756 -0.222190   \n",
       "3            1601             A  1896411761623926  0.287907 -0.141230   \n",
       "4            1601             A  1896411811593717  0.402956  0.272093   \n",
       "\n",
       "              z  \n",
       "0   -0.9538892;  \n",
       "1  -0.99330395;  \n",
       "2   -0.9496281;  \n",
       "3   -1.0955694;  \n",
       "4   -1.0060872;  "
      ]
     },
     "execution_count": 7,
     "metadata": {},
     "output_type": "execute_result"
    }
   ],
   "source": [
    "df_wg_p01 = pd.read_csv(r'../dataset/raw/watch/gyro/data_1601_gyro_watch.txt', names = ['participant_id' , 'activity_code' , 'timestamp', 'x', 'y', 'z'], index_col=None, header=None)\n",
    "print(df_wg_p01.info())\n",
    "df_wg_p01.head()"
   ]
  },
  {
   "cell_type": "markdown",
   "id": "0b55c043-8506-41c5-ba6c-9c9658a89c04",
   "metadata": {},
   "source": [
    "    - Observation\n",
    "        - Most of the data are numeric except for z column"
   ]
  },
  {
   "cell_type": "markdown",
   "id": "70fa0399-b9e0-4fd1-8c12-921555bb9bf1",
   "metadata": {},
   "source": [
    "- Load the watch gyro sensor data for participant 2"
   ]
  },
  {
   "cell_type": "code",
   "execution_count": 8,
   "id": "bfda18d6-bb6a-4baa-9a58-e48ada6bf894",
   "metadata": {},
   "outputs": [
    {
     "name": "stdout",
     "output_type": "stream",
     "text": [
      "<class 'pandas.core.frame.DataFrame'>\n",
      "RangeIndex: 64950 entries, 0 to 64949\n",
      "Data columns (total 6 columns):\n",
      " #   Column          Non-Null Count  Dtype  \n",
      "---  ------          --------------  -----  \n",
      " 0   participant_id  64950 non-null  int64  \n",
      " 1   activity_code   64950 non-null  object \n",
      " 2   timestamp       64950 non-null  int64  \n",
      " 3   x               64950 non-null  float64\n",
      " 4   y               64950 non-null  float64\n",
      " 5   z               64950 non-null  object \n",
      "dtypes: float64(2), int64(2), object(2)\n",
      "memory usage: 3.0+ MB\n",
      "None\n"
     ]
    },
    {
     "data": {
      "text/html": [
       "<div>\n",
       "<style scoped>\n",
       "    .dataframe tbody tr th:only-of-type {\n",
       "        vertical-align: middle;\n",
       "    }\n",
       "\n",
       "    .dataframe tbody tr th {\n",
       "        vertical-align: top;\n",
       "    }\n",
       "\n",
       "    .dataframe thead th {\n",
       "        text-align: right;\n",
       "    }\n",
       "</style>\n",
       "<table border=\"1\" class=\"dataframe\">\n",
       "  <thead>\n",
       "    <tr style=\"text-align: right;\">\n",
       "      <th></th>\n",
       "      <th>participant_id</th>\n",
       "      <th>activity_code</th>\n",
       "      <th>timestamp</th>\n",
       "      <th>x</th>\n",
       "      <th>y</th>\n",
       "      <th>z</th>\n",
       "    </tr>\n",
       "  </thead>\n",
       "  <tbody>\n",
       "    <tr>\n",
       "      <th>0</th>\n",
       "      <td>1602</td>\n",
       "      <td>A</td>\n",
       "      <td>522177087120822</td>\n",
       "      <td>0.249770</td>\n",
       "      <td>-0.047898</td>\n",
       "      <td>0.40667614;</td>\n",
       "    </tr>\n",
       "    <tr>\n",
       "      <th>1</th>\n",
       "      <td>1602</td>\n",
       "      <td>A</td>\n",
       "      <td>522177136620822</td>\n",
       "      <td>0.194376</td>\n",
       "      <td>0.020279</td>\n",
       "      <td>0.24688648;</td>\n",
       "    </tr>\n",
       "    <tr>\n",
       "      <th>2</th>\n",
       "      <td>1602</td>\n",
       "      <td>A</td>\n",
       "      <td>522177186120822</td>\n",
       "      <td>0.116612</td>\n",
       "      <td>-0.047898</td>\n",
       "      <td>0.0785747;</td>\n",
       "    </tr>\n",
       "    <tr>\n",
       "      <th>3</th>\n",
       "      <td>1602</td>\n",
       "      <td>A</td>\n",
       "      <td>522177235620822</td>\n",
       "      <td>0.102764</td>\n",
       "      <td>-0.166143</td>\n",
       "      <td>-0.08334549;</td>\n",
       "    </tr>\n",
       "    <tr>\n",
       "      <th>4</th>\n",
       "      <td>1602</td>\n",
       "      <td>A</td>\n",
       "      <td>522177285120822</td>\n",
       "      <td>0.262553</td>\n",
       "      <td>-0.080921</td>\n",
       "      <td>-0.21224248;</td>\n",
       "    </tr>\n",
       "  </tbody>\n",
       "</table>\n",
       "</div>"
      ],
      "text/plain": [
       "   participant_id activity_code        timestamp         x         y  \\\n",
       "0            1602             A  522177087120822  0.249770 -0.047898   \n",
       "1            1602             A  522177136620822  0.194376  0.020279   \n",
       "2            1602             A  522177186120822  0.116612 -0.047898   \n",
       "3            1602             A  522177235620822  0.102764 -0.166143   \n",
       "4            1602             A  522177285120822  0.262553 -0.080921   \n",
       "\n",
       "              z  \n",
       "0   0.40667614;  \n",
       "1   0.24688648;  \n",
       "2    0.0785747;  \n",
       "3  -0.08334549;  \n",
       "4  -0.21224248;  "
      ]
     },
     "execution_count": 8,
     "metadata": {},
     "output_type": "execute_result"
    }
   ],
   "source": [
    "df_wg_p02 = pd.read_csv(r'../dataset/raw/watch/gyro/data_1602_gyro_watch.txt', names = ['participant_id' , 'activity_code' , 'timestamp', 'x', 'y', 'z'], index_col=None, header=None)\n",
    "print(df_wg_p02.info())\n",
    "df_wg_p02.head()"
   ]
  },
  {
   "cell_type": "markdown",
   "id": "e17925f5-06e6-457f-8ea4-9dd877240e73",
   "metadata": {},
   "source": [
    "    - Observation\n",
    "        - Similar pattern seen as participant 1"
   ]
  },
  {
   "cell_type": "markdown",
   "id": "55da1c96-d8a2-4b26-894d-11d284fabd7a",
   "metadata": {},
   "source": [
    "- Lets confirm is the remaining participants data is also similar dtype "
   ]
  },
  {
   "cell_type": "code",
   "execution_count": 9,
   "id": "fd1fd18c-f2de-4847-b532-47781c48634b",
   "metadata": {},
   "outputs": [
    {
     "name": "stderr",
     "output_type": "stream",
     "text": [
      "Checking    100%|███████████████████████████[   51/  51, 00:02<00:00 ]\n"
     ]
    }
   ],
   "source": [
    "for file_name in tqdm(glob.glob(r'../dataset/raw/watch/gyro/data_*_gyro_watch.txt'),\n",
    "                      desc=\"Checking\",\n",
    "                     bar_format=PBAR_FORMAT):\n",
    "    df_wg = pd.read_csv(file_name, names = ['participant_id' , 'activity_code' , 'timestamp', 'x', 'y', 'z'], index_col=None, header=None)\n",
    "    if (df_wg.dtypes != df_wg_p01.dtypes).any():\n",
    "        print(f\"mismatch in df for file {file_name}\")"
   ]
  },
  {
   "cell_type": "markdown",
   "id": "fd94bacf-4d65-4990-92ee-a5eb59654cac",
   "metadata": {},
   "source": [
    "    - Observation:\n",
    "          - All data csv's have same data type as that of participant 1"
   ]
  },
  {
   "cell_type": "markdown",
   "id": "c6f64fd3-45b3-4fef-ad7b-3a715a58dc0f",
   "metadata": {},
   "source": [
    "- Check for missing values in csv files"
   ]
  },
  {
   "cell_type": "code",
   "execution_count": 10,
   "id": "9fbebfa7-42eb-476a-a982-a660990e0c6b",
   "metadata": {},
   "outputs": [
    {
     "name": "stderr",
     "output_type": "stream",
     "text": [
      "Checking    100%|███████████████████████████[   51/  51, 00:03<00:00 ]\n"
     ]
    }
   ],
   "source": [
    "for file_name in tqdm(glob.glob(r'../dataset/raw/watch/gyro/data_*_gyro_watch.txt'),\n",
    "                      desc=\"Checking\",\n",
    "                     bar_format=PBAR_FORMAT):\n",
    "    df_wg = pd.read_csv(file_name, names = ['participant_id' , 'activity_code' , 'timestamp', 'x', 'y', 'z'], index_col=None, header=None)\n",
    "    if (df_wg.notnull().any().any() == False):\n",
    "        print(\"missing value present\")"
   ]
  },
  {
   "cell_type": "markdown",
   "id": "ae47e0e7-f235-4022-bb91-9b46542380c7",
   "metadata": {},
   "source": [
    "    - Observation:\n",
    "          - All data csv's have no missing values"
   ]
  },
  {
   "cell_type": "markdown",
   "id": "a041b7d5-8b31-49f8-bf4d-46b665027d7f",
   "metadata": {},
   "source": [
    "- Converting z column to float, and add activity column for easy inference"
   ]
  },
  {
   "cell_type": "code",
   "execution_count": 11,
   "id": "8e3fa009-d97e-45e0-aadc-5c668289d64a",
   "metadata": {},
   "outputs": [],
   "source": [
    "df_wg_p01.z = df_wg_p01.z.str.strip(';')\n",
    "df_wg_p01.z = pd.to_numeric(df_wg_p01.z)"
   ]
  },
  {
   "cell_type": "code",
   "execution_count": 12,
   "id": "ad8920f6-fef6-4bf9-90dd-341c4b0c9d89",
   "metadata": {},
   "outputs": [
    {
     "data": {
      "text/html": [
       "<div>\n",
       "<style scoped>\n",
       "    .dataframe tbody tr th:only-of-type {\n",
       "        vertical-align: middle;\n",
       "    }\n",
       "\n",
       "    .dataframe tbody tr th {\n",
       "        vertical-align: top;\n",
       "    }\n",
       "\n",
       "    .dataframe thead th {\n",
       "        text-align: right;\n",
       "    }\n",
       "</style>\n",
       "<table border=\"1\" class=\"dataframe\">\n",
       "  <thead>\n",
       "    <tr style=\"text-align: right;\">\n",
       "      <th></th>\n",
       "      <th>participant_id</th>\n",
       "      <th>activity_code</th>\n",
       "      <th>activity</th>\n",
       "      <th>timestamp</th>\n",
       "      <th>x</th>\n",
       "      <th>y</th>\n",
       "      <th>z</th>\n",
       "    </tr>\n",
       "  </thead>\n",
       "  <tbody>\n",
       "    <tr>\n",
       "      <th>0</th>\n",
       "      <td>1601</td>\n",
       "      <td>A</td>\n",
       "      <td>walking</td>\n",
       "      <td>1896411611733301</td>\n",
       "      <td>0.703360</td>\n",
       "      <td>-0.436308</td>\n",
       "      <td>-0.953889</td>\n",
       "    </tr>\n",
       "    <tr>\n",
       "      <th>1</th>\n",
       "      <td>1601</td>\n",
       "      <td>A</td>\n",
       "      <td>walking</td>\n",
       "      <td>1896411661695801</td>\n",
       "      <td>0.254884</td>\n",
       "      <td>-0.424590</td>\n",
       "      <td>-0.993304</td>\n",
       "    </tr>\n",
       "    <tr>\n",
       "      <th>2</th>\n",
       "      <td>1601</td>\n",
       "      <td>A</td>\n",
       "      <td>walking</td>\n",
       "      <td>1896411711658874</td>\n",
       "      <td>0.301756</td>\n",
       "      <td>-0.222190</td>\n",
       "      <td>-0.949628</td>\n",
       "    </tr>\n",
       "    <tr>\n",
       "      <th>3</th>\n",
       "      <td>1601</td>\n",
       "      <td>A</td>\n",
       "      <td>walking</td>\n",
       "      <td>1896411761623926</td>\n",
       "      <td>0.287907</td>\n",
       "      <td>-0.141230</td>\n",
       "      <td>-1.095569</td>\n",
       "    </tr>\n",
       "    <tr>\n",
       "      <th>4</th>\n",
       "      <td>1601</td>\n",
       "      <td>A</td>\n",
       "      <td>walking</td>\n",
       "      <td>1896411811593717</td>\n",
       "      <td>0.402956</td>\n",
       "      <td>0.272093</td>\n",
       "      <td>-1.006087</td>\n",
       "    </tr>\n",
       "    <tr>\n",
       "      <th>...</th>\n",
       "      <td>...</td>\n",
       "      <td>...</td>\n",
       "      <td>...</td>\n",
       "      <td>...</td>\n",
       "      <td>...</td>\n",
       "      <td>...</td>\n",
       "      <td>...</td>\n",
       "    </tr>\n",
       "    <tr>\n",
       "      <th>64824</th>\n",
       "      <td>1601</td>\n",
       "      <td>S</td>\n",
       "      <td>folding clothes</td>\n",
       "      <td>1890263614217010</td>\n",
       "      <td>0.723241</td>\n",
       "      <td>0.378951</td>\n",
       "      <td>-0.126360</td>\n",
       "    </tr>\n",
       "    <tr>\n",
       "      <th>64825</th>\n",
       "      <td>1601</td>\n",
       "      <td>S</td>\n",
       "      <td>folding clothes</td>\n",
       "      <td>1890263664188560</td>\n",
       "      <td>0.222569</td>\n",
       "      <td>1.128895</td>\n",
       "      <td>-0.416112</td>\n",
       "    </tr>\n",
       "    <tr>\n",
       "      <th>64826</th>\n",
       "      <td>1601</td>\n",
       "      <td>S</td>\n",
       "      <td>folding clothes</td>\n",
       "      <td>1890263714160022</td>\n",
       "      <td>0.332291</td>\n",
       "      <td>1.107589</td>\n",
       "      <td>-0.382024</td>\n",
       "    </tr>\n",
       "    <tr>\n",
       "      <th>64827</th>\n",
       "      <td>1601</td>\n",
       "      <td>S</td>\n",
       "      <td>folding clothes</td>\n",
       "      <td>1890263764099780</td>\n",
       "      <td>-0.184362</td>\n",
       "      <td>1.096937</td>\n",
       "      <td>-1.043553</td>\n",
       "    </tr>\n",
       "    <tr>\n",
       "      <th>64828</th>\n",
       "      <td>1601</td>\n",
       "      <td>S</td>\n",
       "      <td>folding clothes</td>\n",
       "      <td>1890263814039267</td>\n",
       "      <td>-1.254953</td>\n",
       "      <td>1.030890</td>\n",
       "      <td>-1.645428</td>\n",
       "    </tr>\n",
       "  </tbody>\n",
       "</table>\n",
       "<p>64829 rows × 7 columns</p>\n",
       "</div>"
      ],
      "text/plain": [
       "       participant_id activity_code         activity         timestamp  \\\n",
       "0                1601             A          walking  1896411611733301   \n",
       "1                1601             A          walking  1896411661695801   \n",
       "2                1601             A          walking  1896411711658874   \n",
       "3                1601             A          walking  1896411761623926   \n",
       "4                1601             A          walking  1896411811593717   \n",
       "...               ...           ...              ...               ...   \n",
       "64824            1601             S  folding clothes  1890263614217010   \n",
       "64825            1601             S  folding clothes  1890263664188560   \n",
       "64826            1601             S  folding clothes  1890263714160022   \n",
       "64827            1601             S  folding clothes  1890263764099780   \n",
       "64828            1601             S  folding clothes  1890263814039267   \n",
       "\n",
       "              x         y         z  \n",
       "0      0.703360 -0.436308 -0.953889  \n",
       "1      0.254884 -0.424590 -0.993304  \n",
       "2      0.301756 -0.222190 -0.949628  \n",
       "3      0.287907 -0.141230 -1.095569  \n",
       "4      0.402956  0.272093 -1.006087  \n",
       "...         ...       ...       ...  \n",
       "64824  0.723241  0.378951 -0.126360  \n",
       "64825  0.222569  1.128895 -0.416112  \n",
       "64826  0.332291  1.107589 -0.382024  \n",
       "64827 -0.184362  1.096937 -1.043553  \n",
       "64828 -1.254953  1.030890 -1.645428  \n",
       "\n",
       "[64829 rows x 7 columns]"
      ]
     },
     "execution_count": 12,
     "metadata": {},
     "output_type": "execute_result"
    }
   ],
   "source": [
    "df_wg_p01['activity'] = df_wg_p01['activity_code'].map(activity_codes_mapping)\n",
    "df_wg_p01 = df_wg_p01[['participant_id', 'activity_code', 'activity', 'timestamp', 'x', 'y', 'z']]\n",
    "\n",
    "df_wg_p01"
   ]
  },
  {
   "cell_type": "code",
   "execution_count": null,
   "id": "df4d19da-6487-4401-be84-17bec949738f",
   "metadata": {},
   "outputs": [],
   "source": []
  }
 ],
 "metadata": {
  "kernelspec": {
   "display_name": "Python 3 (ipykernel)",
   "language": "python",
   "name": "python3"
  },
  "language_info": {
   "codemirror_mode": {
    "name": "ipython",
    "version": 3
   },
   "file_extension": ".py",
   "mimetype": "text/x-python",
   "name": "python",
   "nbconvert_exporter": "python",
   "pygments_lexer": "ipython3",
   "version": "3.8.10"
  }
 },
 "nbformat": 4,
 "nbformat_minor": 5
}
