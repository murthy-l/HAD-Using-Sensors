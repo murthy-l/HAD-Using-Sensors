{
 "cells": [
  {
   "cell_type": "markdown",
   "id": "b1a15988-3494-4641-8d3e-1c1da419a417",
   "metadata": {},
   "source": [
    "# Detecting Human Activities Through Smartphone Sensor "
   ]
  },
  {
   "cell_type": "markdown",
   "id": "4ab532a0-f265-4411-a510-ebcefb72d0f4",
   "metadata": {},
   "source": [
    "- Data set source:  WISDM Lab of Frodham University, NY\n",
    "https://archive.ics.uci.edu/dataset/507/wisdm+smartphone+and+smartwatch+activity+and+biometrics+dataset"
   ]
  },
  {
   "cell_type": "markdown",
   "id": "b0dac7ad-e017-4ba6-a5f9-8368b6842db3",
   "metadata": {},
   "source": [
    "Data captured using\n",
    "\n",
    "- Two kinds of devices:\n",
    "    - Smartphone (Samsung Galaxy S5)\n",
    "    - Smartwatch (LG G)\n",
    "\n",
    "    \n",
    "- Two kinds of embedded kinematic sensors (for each device):\n",
    "    - Accelerometer - for measurement of linear acceleration (m/sec^2)\n",
    "    - Gyroscope - for measurement of angular velocity (rad/sec)\n"
   ]
  },
  {
   "cell_type": "markdown",
   "id": "8df5b372-c36d-48f5-8a9b-3650d2f26954",
   "metadata": {},
   "source": [
    "\n",
    "Reference coordinate system definition:\n",
    "---\n",
    "\n",
    "![image.png](data:image/png;base64,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)\n"
   ]
  },
  {
   "cell_type": "code",
   "execution_count": 1,
   "id": "27ec0498-7c59-47a3-beb0-33e12d0b8c19",
   "metadata": {},
   "outputs": [],
   "source": [
    "import pandas as pd\n",
    "import numpy as np\n",
    "from matplotlib import pyplot as plt\n",
    "import glob\n",
    "from tqdm import tqdm\n",
    "import filecmp\n",
    "\n",
    "PBAR_FORMAT='{desc:12}{percentage:3.0f}%|{bar:27}[ {n:4d}/{total:4d}, {elapsed}<{remaining}{postfix} ]'"
   ]
  },
  {
   "cell_type": "markdown",
   "id": "0a2dd934-d521-44d8-a2f7-421c74ff83cb",
   "metadata": {},
   "source": [
    "Each activity is represented as an alphabet in the dataset. To make meaningful inference of data we map it to actual activity"
   ]
  },
  {
   "cell_type": "code",
   "execution_count": 2,
   "id": "171888aa-fa41-493e-a7a4-28aedd5bfe71",
   "metadata": {},
   "outputs": [],
   "source": [
    "activity_codes_mapping = {'A': 'walking',\n",
    "                          'B': 'jogging',\n",
    "                          'C': 'stairs',\n",
    "                          'D': 'sitting',\n",
    "                          'E': 'standing',\n",
    "                          'F': 'typing',\n",
    "                          'G': 'brushing teeth',\n",
    "                          'H': 'eating soup',\n",
    "                          'I': 'eating chips',\n",
    "                          'J': 'eating pasta',\n",
    "                          'K': 'drinking from cup',\n",
    "                          'L': 'eating sandwich',\n",
    "                          'M': 'kicking soccer ball',\n",
    "                          'O': 'playing catch tennis ball',\n",
    "                          'P': 'dribbling basket ball',\n",
    "                          'Q': 'writing',\n",
    "                          'R': 'clapping',\n",
    "                          'S': 'folding clothes'}"
   ]
  },
  {
   "cell_type": "markdown",
   "id": "73f2e7cb-5612-4a30-80ab-77cfc279e65a",
   "metadata": {},
   "source": [
    "# Dataset understanding"
   ]
  },
  {
   "cell_type": "markdown",
   "id": "d261835f-a52b-4dc4-a1d1-b7368562dca7",
   "metadata": {},
   "source": [
    "## Phone Accelerometer"
   ]
  },
  {
   "cell_type": "markdown",
   "id": "369c8531-2f36-48ef-9636-7f5eff037f2c",
   "metadata": {},
   "source": [
    "- Load the phone accelerometer sensor data for participant 1"
   ]
  },
  {
   "cell_type": "code",
   "execution_count": 7,
   "id": "1023bed1-defd-42ce-9abe-5114a49be30d",
   "metadata": {},
   "outputs": [
    {
     "name": "stdout",
     "output_type": "stream",
     "text": [
      "<class 'pandas.core.frame.DataFrame'>\n",
      "RangeIndex: 81457 entries, 0 to 81456\n",
      "Data columns (total 6 columns):\n",
      " #   Column          Non-Null Count  Dtype  \n",
      "---  ------          --------------  -----  \n",
      " 0   participant_id  81457 non-null  int64  \n",
      " 1   activity_code   81457 non-null  object \n",
      " 2   timestamp       81457 non-null  int64  \n",
      " 3   x               81457 non-null  float64\n",
      " 4   y               81457 non-null  float64\n",
      " 5   z               81457 non-null  object \n",
      "dtypes: float64(2), int64(2), object(2)\n",
      "memory usage: 3.7+ MB\n",
      "None\n"
     ]
    },
    {
     "data": {
      "text/html": [
       "<div>\n",
       "<style scoped>\n",
       "    .dataframe tbody tr th:only-of-type {\n",
       "        vertical-align: middle;\n",
       "    }\n",
       "\n",
       "    .dataframe tbody tr th {\n",
       "        vertical-align: top;\n",
       "    }\n",
       "\n",
       "    .dataframe thead th {\n",
       "        text-align: right;\n",
       "    }\n",
       "</style>\n",
       "<table border=\"1\" class=\"dataframe\">\n",
       "  <thead>\n",
       "    <tr style=\"text-align: right;\">\n",
       "      <th></th>\n",
       "      <th>participant_id</th>\n",
       "      <th>activity_code</th>\n",
       "      <th>timestamp</th>\n",
       "      <th>x</th>\n",
       "      <th>y</th>\n",
       "      <th>z</th>\n",
       "    </tr>\n",
       "  </thead>\n",
       "  <tbody>\n",
       "    <tr>\n",
       "      <th>0</th>\n",
       "      <td>1601</td>\n",
       "      <td>A</td>\n",
       "      <td>265073308304101</td>\n",
       "      <td>4.703409</td>\n",
       "      <td>9.127296</td>\n",
       "      <td>0.06404489;</td>\n",
       "    </tr>\n",
       "    <tr>\n",
       "      <th>1</th>\n",
       "      <td>1601</td>\n",
       "      <td>A</td>\n",
       "      <td>265073348330612</td>\n",
       "      <td>5.354632</td>\n",
       "      <td>15.635334</td>\n",
       "      <td>-0.6290765;</td>\n",
       "    </tr>\n",
       "    <tr>\n",
       "      <th>2</th>\n",
       "      <td>1601</td>\n",
       "      <td>A</td>\n",
       "      <td>265073388368581</td>\n",
       "      <td>6.399701</td>\n",
       "      <td>12.926893</td>\n",
       "      <td>0.45010993;</td>\n",
       "    </tr>\n",
       "    <tr>\n",
       "      <th>3</th>\n",
       "      <td>1601</td>\n",
       "      <td>A</td>\n",
       "      <td>265073428111445</td>\n",
       "      <td>10.532093</td>\n",
       "      <td>13.207614</td>\n",
       "      <td>-1.0247183;</td>\n",
       "    </tr>\n",
       "    <tr>\n",
       "      <th>4</th>\n",
       "      <td>1601</td>\n",
       "      <td>A</td>\n",
       "      <td>265073468081082</td>\n",
       "      <td>16.129736</td>\n",
       "      <td>2.683301</td>\n",
       "      <td>1.1426327;</td>\n",
       "    </tr>\n",
       "  </tbody>\n",
       "</table>\n",
       "</div>"
      ],
      "text/plain": [
       "   participant_id activity_code        timestamp          x          y  \\\n",
       "0            1601             A  265073308304101   4.703409   9.127296   \n",
       "1            1601             A  265073348330612   5.354632  15.635334   \n",
       "2            1601             A  265073388368581   6.399701  12.926893   \n",
       "3            1601             A  265073428111445  10.532093  13.207614   \n",
       "4            1601             A  265073468081082  16.129736   2.683301   \n",
       "\n",
       "             z  \n",
       "0  0.06404489;  \n",
       "1  -0.6290765;  \n",
       "2  0.45010993;  \n",
       "3  -1.0247183;  \n",
       "4   1.1426327;  "
      ]
     },
     "execution_count": 7,
     "metadata": {},
     "output_type": "execute_result"
    }
   ],
   "source": [
    "df_pa_p01 = pd.read_csv(r'../dataset/raw/phone/accel/data_1601_accel_phone.txt', names = ['participant_id' , 'activity_code' , 'timestamp', 'x', 'y', 'z'], index_col=None, header=None)\n",
    "print(df_pa_p01.info())\n",
    "df_pa_p01.head()"
   ]
  },
  {
   "cell_type": "markdown",
   "id": "7d6ca0fc-3a26-4637-a6f0-5aa8461ebb60",
   "metadata": {},
   "source": [
    "    - Observation\n",
    "        - Most of the data are numeric except for z column"
   ]
  },
  {
   "cell_type": "markdown",
   "id": "8c9bcd92-a08f-4c79-886d-8146c0260875",
   "metadata": {},
   "source": [
    "- Load the phone accelerometer sensor data for participant 2"
   ]
  },
  {
   "cell_type": "code",
   "execution_count": 9,
   "id": "aa422668-d0ec-4b0b-8cc9-117277a58700",
   "metadata": {},
   "outputs": [
    {
     "name": "stdout",
     "output_type": "stream",
     "text": [
      "<class 'pandas.core.frame.DataFrame'>\n",
      "RangeIndex: 81457 entries, 0 to 81456\n",
      "Data columns (total 6 columns):\n",
      " #   Column          Non-Null Count  Dtype  \n",
      "---  ------          --------------  -----  \n",
      " 0   participant_id  81457 non-null  int64  \n",
      " 1   activity_code   81457 non-null  object \n",
      " 2   timestamp       81457 non-null  int64  \n",
      " 3   x               81457 non-null  float64\n",
      " 4   y               81457 non-null  float64\n",
      " 5   z               81457 non-null  object \n",
      "dtypes: float64(2), int64(2), object(2)\n",
      "memory usage: 3.7+ MB\n",
      "None\n"
     ]
    },
    {
     "data": {
      "text/html": [
       "<div>\n",
       "<style scoped>\n",
       "    .dataframe tbody tr th:only-of-type {\n",
       "        vertical-align: middle;\n",
       "    }\n",
       "\n",
       "    .dataframe tbody tr th {\n",
       "        vertical-align: top;\n",
       "    }\n",
       "\n",
       "    .dataframe thead th {\n",
       "        text-align: right;\n",
       "    }\n",
       "</style>\n",
       "<table border=\"1\" class=\"dataframe\">\n",
       "  <thead>\n",
       "    <tr style=\"text-align: right;\">\n",
       "      <th></th>\n",
       "      <th>participant_id</th>\n",
       "      <th>activity_code</th>\n",
       "      <th>timestamp</th>\n",
       "      <th>x</th>\n",
       "      <th>y</th>\n",
       "      <th>z</th>\n",
       "    </tr>\n",
       "  </thead>\n",
       "  <tbody>\n",
       "    <tr>\n",
       "      <th>0</th>\n",
       "      <td>1601</td>\n",
       "      <td>A</td>\n",
       "      <td>265073308304101</td>\n",
       "      <td>4.703409</td>\n",
       "      <td>9.127296</td>\n",
       "      <td>0.06404489;</td>\n",
       "    </tr>\n",
       "    <tr>\n",
       "      <th>1</th>\n",
       "      <td>1601</td>\n",
       "      <td>A</td>\n",
       "      <td>265073348330612</td>\n",
       "      <td>5.354632</td>\n",
       "      <td>15.635334</td>\n",
       "      <td>-0.6290765;</td>\n",
       "    </tr>\n",
       "    <tr>\n",
       "      <th>2</th>\n",
       "      <td>1601</td>\n",
       "      <td>A</td>\n",
       "      <td>265073388368581</td>\n",
       "      <td>6.399701</td>\n",
       "      <td>12.926893</td>\n",
       "      <td>0.45010993;</td>\n",
       "    </tr>\n",
       "    <tr>\n",
       "      <th>3</th>\n",
       "      <td>1601</td>\n",
       "      <td>A</td>\n",
       "      <td>265073428111445</td>\n",
       "      <td>10.532093</td>\n",
       "      <td>13.207614</td>\n",
       "      <td>-1.0247183;</td>\n",
       "    </tr>\n",
       "    <tr>\n",
       "      <th>4</th>\n",
       "      <td>1601</td>\n",
       "      <td>A</td>\n",
       "      <td>265073468081082</td>\n",
       "      <td>16.129736</td>\n",
       "      <td>2.683301</td>\n",
       "      <td>1.1426327;</td>\n",
       "    </tr>\n",
       "  </tbody>\n",
       "</table>\n",
       "</div>"
      ],
      "text/plain": [
       "   participant_id activity_code        timestamp          x          y  \\\n",
       "0            1601             A  265073308304101   4.703409   9.127296   \n",
       "1            1601             A  265073348330612   5.354632  15.635334   \n",
       "2            1601             A  265073388368581   6.399701  12.926893   \n",
       "3            1601             A  265073428111445  10.532093  13.207614   \n",
       "4            1601             A  265073468081082  16.129736   2.683301   \n",
       "\n",
       "             z  \n",
       "0  0.06404489;  \n",
       "1  -0.6290765;  \n",
       "2  0.45010993;  \n",
       "3  -1.0247183;  \n",
       "4   1.1426327;  "
      ]
     },
     "execution_count": 9,
     "metadata": {},
     "output_type": "execute_result"
    }
   ],
   "source": [
    "df_pa_p02 = pd.read_csv(r'../dataset/raw/phone/accel/data_1602_accel_phone.txt', names = ['participant_id' , 'activity_code' , 'timestamp', 'x', 'y', 'z'], index_col=None, header=None)\n",
    "print(df_pa_p02.info())\n",
    "df_pa_p02.head()"
   ]
  },
  {
   "cell_type": "markdown",
   "id": "9c7609c1-de17-441d-b9c3-9c55024b5c20",
   "metadata": {},
   "source": [
    "    - Observation\n",
    "        - Similar pattern seen as participant 1"
   ]
  },
  {
   "cell_type": "markdown",
   "id": "4b40f2ca-6556-46c2-9c38-da2b2ccbf1f7",
   "metadata": {},
   "source": [
    "- Lets confirm is the remaining participants data is also similar dtype "
   ]
  },
  {
   "cell_type": "code",
   "execution_count": 20,
   "id": "0d066d27-0812-4fa1-be8a-30f3a7633746",
   "metadata": {},
   "outputs": [
    {
     "name": "stderr",
     "output_type": "stream",
     "text": [
      "Checking    100%|███████████████████████████[   51/  51, 00:03<00:00 ]\n"
     ]
    }
   ],
   "source": [
    "for file_name in tqdm(glob.glob(r'../dataset/raw/phone/accel/data_*_accel_phone.txt'),\n",
    "                      desc=\"Checking\",\n",
    "                     bar_format=PBAR_FORMAT):\n",
    "    df_pa = pd.read_csv(file_name, names = ['participant_id' , 'activity_code' , 'timestamp', 'x', 'y', 'z'], index_col=None, header=None)\n",
    "    if (df_pa.dtypes != df_pa_p01.dtypes).any():\n",
    "        print(f\"mismatch in df for file {file_name}\")"
   ]
  },
  {
   "cell_type": "markdown",
   "id": "db052ced-a100-4809-b963-1667258d4624",
   "metadata": {},
   "source": [
    "    - Observation:\n",
    "          - All data csv's have no missing values"
   ]
  },
  {
   "cell_type": "markdown",
   "id": "5e05f2b4-2b9b-4a3a-804f-00ea38e15058",
   "metadata": {},
   "source": [
    "- Check for missing values in csv files"
   ]
  },
  {
   "cell_type": "code",
   "execution_count": 21,
   "id": "99ee2b6a-7406-451f-9e99-52899886674a",
   "metadata": {},
   "outputs": [
    {
     "name": "stderr",
     "output_type": "stream",
     "text": [
      "Checking    100%|███████████████████████████[   51/  51, 00:03<00:00 ]\n"
     ]
    }
   ],
   "source": [
    "for file_name in tqdm(glob.glob(r'../dataset/raw/phone/accel/data_*_accel_phone.txt'),\n",
    "                      desc=\"Checking\",\n",
    "                     bar_format=PBAR_FORMAT):\n",
    "    df_pa = pd.read_csv(file_name, names = ['participant_id' , 'activity_code' , 'timestamp', 'x', 'y', 'z'], index_col=None, header=None)\n",
    "    if (df_pa.notnull().any().any() == False):\n",
    "        print(\"missing value present\")"
   ]
  },
  {
   "cell_type": "markdown",
   "id": "266199e5-be96-48f9-a7da-dfd9074d5262",
   "metadata": {},
   "source": [
    "   - Observation:\n",
    "          - All data csv's have no missing values"
   ]
  },
  {
   "cell_type": "markdown",
   "id": "80975f02-4b6d-4888-86d3-dcb82cdff9a0",
   "metadata": {},
   "source": [
    "## Phone Gyroscope"
   ]
  },
  {
   "cell_type": "code",
   "execution_count": 23,
   "id": "32cb8e6e-9a7e-4176-b8ce-f23027b79084",
   "metadata": {},
   "outputs": [
    {
     "name": "stdout",
     "output_type": "stream",
     "text": [
      "<class 'pandas.core.frame.DataFrame'>\n",
      "RangeIndex: 81193 entries, 0 to 81192\n",
      "Data columns (total 6 columns):\n",
      " #   Column          Non-Null Count  Dtype  \n",
      "---  ------          --------------  -----  \n",
      " 0   participant_id  81193 non-null  int64  \n",
      " 1   activity_code   81193 non-null  object \n",
      " 2   timestamp       81193 non-null  int64  \n",
      " 3   x               81193 non-null  float64\n",
      " 4   y               81193 non-null  float64\n",
      " 5   z               81193 non-null  object \n",
      "dtypes: float64(2), int64(2), object(2)\n",
      "memory usage: 3.7+ MB\n",
      "None\n"
     ]
    },
    {
     "data": {
      "text/html": [
       "<div>\n",
       "<style scoped>\n",
       "    .dataframe tbody tr th:only-of-type {\n",
       "        vertical-align: middle;\n",
       "    }\n",
       "\n",
       "    .dataframe tbody tr th {\n",
       "        vertical-align: top;\n",
       "    }\n",
       "\n",
       "    .dataframe thead th {\n",
       "        text-align: right;\n",
       "    }\n",
       "</style>\n",
       "<table border=\"1\" class=\"dataframe\">\n",
       "  <thead>\n",
       "    <tr style=\"text-align: right;\">\n",
       "      <th></th>\n",
       "      <th>participant_id</th>\n",
       "      <th>activity_code</th>\n",
       "      <th>timestamp</th>\n",
       "      <th>x</th>\n",
       "      <th>y</th>\n",
       "      <th>z</th>\n",
       "    </tr>\n",
       "  </thead>\n",
       "  <tbody>\n",
       "    <tr>\n",
       "      <th>0</th>\n",
       "      <td>1601</td>\n",
       "      <td>A</td>\n",
       "      <td>265073308304101</td>\n",
       "      <td>-0.020240</td>\n",
       "      <td>-0.004261</td>\n",
       "      <td>-0.023435818;</td>\n",
       "    </tr>\n",
       "    <tr>\n",
       "      <th>1</th>\n",
       "      <td>1601</td>\n",
       "      <td>A</td>\n",
       "      <td>265073348330612</td>\n",
       "      <td>-1.213602</td>\n",
       "      <td>0.055394</td>\n",
       "      <td>-0.36964676;</td>\n",
       "    </tr>\n",
       "    <tr>\n",
       "      <th>2</th>\n",
       "      <td>1601</td>\n",
       "      <td>A</td>\n",
       "      <td>265073388368581</td>\n",
       "      <td>-2.417352</td>\n",
       "      <td>1.124387</td>\n",
       "      <td>-1.644502;</td>\n",
       "    </tr>\n",
       "    <tr>\n",
       "      <th>3</th>\n",
       "      <td>1601</td>\n",
       "      <td>A</td>\n",
       "      <td>265073428111445</td>\n",
       "      <td>-3.075152</td>\n",
       "      <td>1.530252</td>\n",
       "      <td>-1.6729978;</td>\n",
       "    </tr>\n",
       "    <tr>\n",
       "      <th>4</th>\n",
       "      <td>1601</td>\n",
       "      <td>A</td>\n",
       "      <td>265073468081082</td>\n",
       "      <td>0.011185</td>\n",
       "      <td>4.576909</td>\n",
       "      <td>-0.24367924;</td>\n",
       "    </tr>\n",
       "  </tbody>\n",
       "</table>\n",
       "</div>"
      ],
      "text/plain": [
       "   participant_id activity_code        timestamp         x         y  \\\n",
       "0            1601             A  265073308304101 -0.020240 -0.004261   \n",
       "1            1601             A  265073348330612 -1.213602  0.055394   \n",
       "2            1601             A  265073388368581 -2.417352  1.124387   \n",
       "3            1601             A  265073428111445 -3.075152  1.530252   \n",
       "4            1601             A  265073468081082  0.011185  4.576909   \n",
       "\n",
       "               z  \n",
       "0  -0.023435818;  \n",
       "1   -0.36964676;  \n",
       "2     -1.644502;  \n",
       "3    -1.6729978;  \n",
       "4   -0.24367924;  "
      ]
     },
     "execution_count": 23,
     "metadata": {},
     "output_type": "execute_result"
    }
   ],
   "source": [
    "df_pg_p01 = pd.read_csv(r'../dataset/raw/phone/gyro/data_1601_gyro_phone.txt', names = ['participant_id' , 'activity_code' , 'timestamp', 'x', 'y', 'z'], index_col=None, header=None)\n",
    "print(df_pg_p01.info())\n",
    "df_pg_p01.head()"
   ]
  },
  {
   "cell_type": "markdown",
   "id": "28ecc9a9-de21-4624-8af4-6aac4da0111d",
   "metadata": {},
   "source": [
    "    - Observation\n",
    "        - Most of the data are numeric except for z column"
   ]
  },
  {
   "cell_type": "markdown",
   "id": "523aeb75-d8b8-40b8-b4ec-93cd461cbb9f",
   "metadata": {},
   "source": [
    "- Load the watch gyro sensor data for participant 2"
   ]
  },
  {
   "cell_type": "code",
   "execution_count": 27,
   "id": "24fc6f22-1610-4e08-848e-ebfee4e110fe",
   "metadata": {},
   "outputs": [
    {
     "name": "stdout",
     "output_type": "stream",
     "text": [
      "<class 'pandas.core.frame.DataFrame'>\n",
      "RangeIndex: 64286 entries, 0 to 64285\n",
      "Data columns (total 6 columns):\n",
      " #   Column          Non-Null Count  Dtype  \n",
      "---  ------          --------------  -----  \n",
      " 0   participant_id  64286 non-null  int64  \n",
      " 1   activity_code   64286 non-null  object \n",
      " 2   timestamp       64286 non-null  int64  \n",
      " 3   x               64286 non-null  float64\n",
      " 4   y               64286 non-null  float64\n",
      " 5   z               64286 non-null  object \n",
      "dtypes: float64(2), int64(2), object(2)\n",
      "memory usage: 2.9+ MB\n",
      "None\n"
     ]
    },
    {
     "data": {
      "text/html": [
       "<div>\n",
       "<style scoped>\n",
       "    .dataframe tbody tr th:only-of-type {\n",
       "        vertical-align: middle;\n",
       "    }\n",
       "\n",
       "    .dataframe tbody tr th {\n",
       "        vertical-align: top;\n",
       "    }\n",
       "\n",
       "    .dataframe thead th {\n",
       "        text-align: right;\n",
       "    }\n",
       "</style>\n",
       "<table border=\"1\" class=\"dataframe\">\n",
       "  <thead>\n",
       "    <tr style=\"text-align: right;\">\n",
       "      <th></th>\n",
       "      <th>participant_id</th>\n",
       "      <th>activity_code</th>\n",
       "      <th>timestamp</th>\n",
       "      <th>x</th>\n",
       "      <th>y</th>\n",
       "      <th>z</th>\n",
       "    </tr>\n",
       "  </thead>\n",
       "  <tbody>\n",
       "    <tr>\n",
       "      <th>0</th>\n",
       "      <td>1602</td>\n",
       "      <td>A</td>\n",
       "      <td>99019678643841</td>\n",
       "      <td>-0.719742</td>\n",
       "      <td>0.398651</td>\n",
       "      <td>-0.16711426;</td>\n",
       "    </tr>\n",
       "    <tr>\n",
       "      <th>1</th>\n",
       "      <td>1602</td>\n",
       "      <td>A</td>\n",
       "      <td>99019728997845</td>\n",
       "      <td>-0.957825</td>\n",
       "      <td>1.615234</td>\n",
       "      <td>-0.111709595;</td>\n",
       "    </tr>\n",
       "    <tr>\n",
       "      <th>2</th>\n",
       "      <td>1602</td>\n",
       "      <td>A</td>\n",
       "      <td>99019779351849</td>\n",
       "      <td>-1.881058</td>\n",
       "      <td>1.473206</td>\n",
       "      <td>0.83522034;</td>\n",
       "    </tr>\n",
       "    <tr>\n",
       "      <th>3</th>\n",
       "      <td>1602</td>\n",
       "      <td>A</td>\n",
       "      <td>99019829705853</td>\n",
       "      <td>-1.575790</td>\n",
       "      <td>0.241714</td>\n",
       "      <td>0.34750366;</td>\n",
       "    </tr>\n",
       "    <tr>\n",
       "      <th>4</th>\n",
       "      <td>1602</td>\n",
       "      <td>A</td>\n",
       "      <td>99019880059857</td>\n",
       "      <td>-1.639481</td>\n",
       "      <td>1.097153</td>\n",
       "      <td>0.34846497;</td>\n",
       "    </tr>\n",
       "  </tbody>\n",
       "</table>\n",
       "</div>"
      ],
      "text/plain": [
       "   participant_id activity_code       timestamp         x         y  \\\n",
       "0            1602             A  99019678643841 -0.719742  0.398651   \n",
       "1            1602             A  99019728997845 -0.957825  1.615234   \n",
       "2            1602             A  99019779351849 -1.881058  1.473206   \n",
       "3            1602             A  99019829705853 -1.575790  0.241714   \n",
       "4            1602             A  99019880059857 -1.639481  1.097153   \n",
       "\n",
       "               z  \n",
       "0   -0.16711426;  \n",
       "1  -0.111709595;  \n",
       "2    0.83522034;  \n",
       "3    0.34750366;  \n",
       "4    0.34846497;  "
      ]
     },
     "execution_count": 27,
     "metadata": {},
     "output_type": "execute_result"
    }
   ],
   "source": [
    "df_pg_p02 = pd.read_csv(r'../dataset/raw/phone/gyro/data_1602_gyro_phone.txt', names = ['participant_id' , 'activity_code' , 'timestamp', 'x', 'y', 'z'], index_col=None, header=None)\n",
    "print(df_pg_p02.info())\n",
    "df_pg_p02.head()"
   ]
  },
  {
   "cell_type": "markdown",
   "id": "e6812c43-2e27-437f-a316-eb8d84914620",
   "metadata": {},
   "source": [
    "    - Observation\n",
    "        - Similar pattern seen as participant 1"
   ]
  },
  {
   "cell_type": "markdown",
   "id": "0442ba71-431f-415f-94d5-488ec4b14436",
   "metadata": {},
   "source": [
    "- Lets confirm is the remaining participants data is also similar dtype "
   ]
  },
  {
   "cell_type": "code",
   "execution_count": 28,
   "id": "b1df7b0e-c89e-47ab-bbf6-333c4cc9fd66",
   "metadata": {},
   "outputs": [
    {
     "name": "stderr",
     "output_type": "stream",
     "text": [
      "Checking    100%|███████████████████████████[   51/  51, 00:02<00:00 ]\n"
     ]
    }
   ],
   "source": [
    "for file_name in tqdm(glob.glob(r'../dataset/raw/phone/gyro/data_*_gyro_phone.txt'),\n",
    "                      desc=\"Checking\",\n",
    "                     bar_format=PBAR_FORMAT):\n",
    "    df_pg = pd.read_csv(file_name, names = ['participant_id' , 'activity_code' , 'timestamp', 'x', 'y', 'z'], index_col=None, header=None)\n",
    "    if (df_pg.dtypes != df_pg_p01.dtypes).any():\n",
    "        print(f\"mismatch in df for file {file_name}\")"
   ]
  },
  {
   "cell_type": "markdown",
   "id": "56e50be5-d4bd-44e2-9ba5-bcc6109f35a5",
   "metadata": {},
   "source": [
    "    - Observation:\n",
    "          - All data csv's have same data type as that of participant 1"
   ]
  },
  {
   "cell_type": "markdown",
   "id": "9a4720ed-341f-4817-a678-9e50276d068d",
   "metadata": {},
   "source": [
    "- Check for missing values in csv files"
   ]
  },
  {
   "cell_type": "code",
   "execution_count": 30,
   "id": "4e159b63-303e-4663-a6c4-0a885445b084",
   "metadata": {},
   "outputs": [
    {
     "name": "stderr",
     "output_type": "stream",
     "text": [
      "Checking    100%|███████████████████████████[   51/  51, 00:03<00:00 ]\n"
     ]
    }
   ],
   "source": [
    "for file_name in tqdm(glob.glob(r'../dataset/raw/watch/gyro/data_*_gyro_watch.txt'),\n",
    "                      desc=\"Checking\",\n",
    "                     bar_format=PBAR_FORMAT):\n",
    "    df_pg = pd.read_csv(file_name, names = ['participant_id' , 'activity_code' , 'timestamp', 'x', 'y', 'z'], index_col=None, header=None)\n",
    "    if (df_pg.notnull().any().any() == False):\n",
    "        print(\"missing value present\")"
   ]
  },
  {
   "cell_type": "markdown",
   "id": "89fb6356-f28a-4d15-8be6-f1667cd1c8aa",
   "metadata": {},
   "source": [
    "    - Observation:\n",
    "          - All data csv's have no missing values"
   ]
  },
  {
   "cell_type": "code",
   "execution_count": null,
   "id": "34db1960-f40b-4c47-abfe-8b8b2f58b870",
   "metadata": {},
   "outputs": [],
   "source": []
  }
 ],
 "metadata": {
  "kernelspec": {
   "display_name": "Python 3 (ipykernel)",
   "language": "python",
   "name": "python3"
  },
  "language_info": {
   "codemirror_mode": {
    "name": "ipython",
    "version": 3
   },
   "file_extension": ".py",
   "mimetype": "text/x-python",
   "name": "python",
   "nbconvert_exporter": "python",
   "pygments_lexer": "ipython3",
   "version": "3.8.10"
  }
 },
 "nbformat": 4,
 "nbformat_minor": 5
}
