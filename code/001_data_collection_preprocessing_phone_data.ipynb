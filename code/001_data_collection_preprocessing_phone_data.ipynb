{
 "cells": [
  {
   "cell_type": "markdown",
   "id": "b1a15988-3494-4641-8d3e-1c1da419a417",
   "metadata": {},
   "source": [
    "# Detecting Human Activities Through Smartphone Sensor - Preprocesing"
   ]
  },
  {
   "cell_type": "markdown",
   "id": "4ab532a0-f265-4411-a510-ebcefb72d0f4",
   "metadata": {},
   "source": [
    "- Data set source:  WISDM Lab of Frodham University, NY\n",
    "https://archive.ics.uci.edu/dataset/507/wisdm+smartphone+and+smartwatch+activity+and+biometrics+dataset"
   ]
  },
  {
   "cell_type": "markdown",
   "id": "b0dac7ad-e017-4ba6-a5f9-8368b6842db3",
   "metadata": {},
   "source": [
    "Data captured using\n",
    "\n",
    "- Two kinds of devices:\n",
    "    - Smartphone (Samsung Galaxy S5)\n",
    "    - Smartwatch (LG G)\n",
    "\n",
    "    \n",
    "- Two kinds of embedded kinematic sensors (for each device):\n",
    "    - Accelerometer - for measurement of linear acceleration (m/sec^2)\n",
    "    - Gyroscope - for measurement of angular velocity (rad/sec)\n"
   ]
  },
  {
   "cell_type": "code",
   "execution_count": 1,
   "id": "27ec0498-7c59-47a3-beb0-33e12d0b8c19",
   "metadata": {},
   "outputs": [],
   "source": [
    "import pandas as pd\n",
    "import numpy as np\n",
    "from matplotlib import pyplot as plt\n",
    "import glob\n",
    "from tqdm import tqdm\n",
    "import filecmp\n",
    "\n",
    "PBAR_FORMAT='{desc:12}{percentage:3.0f}%|{bar:27}[ {n:4d}/{total:4d}, {elapsed}<{remaining}{postfix} ]'"
   ]
  },
  {
   "cell_type": "markdown",
   "id": "0a2dd934-d521-44d8-a2f7-421c74ff83cb",
   "metadata": {},
   "source": [
    "Each activity is represented as an alphabet in the dataset. To make meaningful inference of data we map it to actual activity"
   ]
  },
  {
   "cell_type": "code",
   "execution_count": 2,
   "id": "171888aa-fa41-493e-a7a4-28aedd5bfe71",
   "metadata": {},
   "outputs": [],
   "source": [
    "activity_codes_mapping = {'A': 'walking',\n",
    "                          'B': 'jogging',\n",
    "                          'C': 'stairs',\n",
    "                          'D': 'sitting',\n",
    "                          'E': 'standing',\n",
    "                          'F': 'typing',\n",
    "                          'G': 'brushing teeth',\n",
    "                          'H': 'eating soup',\n",
    "                          'I': 'eating chips',\n",
    "                          'J': 'eating pasta',\n",
    "                          'K': 'drinking from cup',\n",
    "                          'L': 'eating sandwich',\n",
    "                          'M': 'kicking soccer ball',\n",
    "                          'O': 'playing catch tennis ball',\n",
    "                          'P': 'dribbling basket ball',\n",
    "                          'Q': 'writing',\n",
    "                          'R': 'clapping',\n",
    "                          'S': 'folding clothes'}"
   ]
  },
  {
   "cell_type": "markdown",
   "id": "73f2e7cb-5612-4a30-80ab-77cfc279e65a",
   "metadata": {},
   "source": [
    "# Dataset understanding"
   ]
  },
  {
   "cell_type": "markdown",
   "id": "d261835f-a52b-4dc4-a1d1-b7368562dca7",
   "metadata": {},
   "source": [
    "## Phone Accelerometer"
   ]
  },
  {
   "cell_type": "markdown",
   "id": "369c8531-2f36-48ef-9636-7f5eff037f2c",
   "metadata": {},
   "source": [
    "- Load the phone accelerometer sensor data for participant 1"
   ]
  },
  {
   "cell_type": "code",
   "execution_count": 3,
   "id": "1023bed1-defd-42ce-9abe-5114a49be30d",
   "metadata": {},
   "outputs": [
    {
     "name": "stdout",
     "output_type": "stream",
     "text": [
      "<class 'pandas.core.frame.DataFrame'>\n",
      "RangeIndex: 81457 entries, 0 to 81456\n",
      "Data columns (total 6 columns):\n",
      " #   Column          Non-Null Count  Dtype  \n",
      "---  ------          --------------  -----  \n",
      " 0   participant_id  81457 non-null  int64  \n",
      " 1   activity_code   81457 non-null  object \n",
      " 2   timestamp       81457 non-null  int64  \n",
      " 3   x               81457 non-null  float64\n",
      " 4   y               81457 non-null  float64\n",
      " 5   z               81457 non-null  object \n",
      "dtypes: float64(2), int64(2), object(2)\n",
      "memory usage: 3.7+ MB\n",
      "None\n"
     ]
    },
    {
     "data": {
      "text/html": [
       "<div>\n",
       "<style scoped>\n",
       "    .dataframe tbody tr th:only-of-type {\n",
       "        vertical-align: middle;\n",
       "    }\n",
       "\n",
       "    .dataframe tbody tr th {\n",
       "        vertical-align: top;\n",
       "    }\n",
       "\n",
       "    .dataframe thead th {\n",
       "        text-align: right;\n",
       "    }\n",
       "</style>\n",
       "<table border=\"1\" class=\"dataframe\">\n",
       "  <thead>\n",
       "    <tr style=\"text-align: right;\">\n",
       "      <th></th>\n",
       "      <th>participant_id</th>\n",
       "      <th>activity_code</th>\n",
       "      <th>timestamp</th>\n",
       "      <th>x</th>\n",
       "      <th>y</th>\n",
       "      <th>z</th>\n",
       "    </tr>\n",
       "  </thead>\n",
       "  <tbody>\n",
       "    <tr>\n",
       "      <th>0</th>\n",
       "      <td>1601</td>\n",
       "      <td>A</td>\n",
       "      <td>265073308304101</td>\n",
       "      <td>4.703409</td>\n",
       "      <td>9.127296</td>\n",
       "      <td>0.06404489;</td>\n",
       "    </tr>\n",
       "    <tr>\n",
       "      <th>1</th>\n",
       "      <td>1601</td>\n",
       "      <td>A</td>\n",
       "      <td>265073348330612</td>\n",
       "      <td>5.354632</td>\n",
       "      <td>15.635334</td>\n",
       "      <td>-0.6290765;</td>\n",
       "    </tr>\n",
       "    <tr>\n",
       "      <th>2</th>\n",
       "      <td>1601</td>\n",
       "      <td>A</td>\n",
       "      <td>265073388368581</td>\n",
       "      <td>6.399701</td>\n",
       "      <td>12.926893</td>\n",
       "      <td>0.45010993;</td>\n",
       "    </tr>\n",
       "    <tr>\n",
       "      <th>3</th>\n",
       "      <td>1601</td>\n",
       "      <td>A</td>\n",
       "      <td>265073428111445</td>\n",
       "      <td>10.532093</td>\n",
       "      <td>13.207614</td>\n",
       "      <td>-1.0247183;</td>\n",
       "    </tr>\n",
       "    <tr>\n",
       "      <th>4</th>\n",
       "      <td>1601</td>\n",
       "      <td>A</td>\n",
       "      <td>265073468081082</td>\n",
       "      <td>16.129736</td>\n",
       "      <td>2.683301</td>\n",
       "      <td>1.1426327;</td>\n",
       "    </tr>\n",
       "  </tbody>\n",
       "</table>\n",
       "</div>"
      ],
      "text/plain": [
       "   participant_id activity_code        timestamp          x          y  \\\n",
       "0            1601             A  265073308304101   4.703409   9.127296   \n",
       "1            1601             A  265073348330612   5.354632  15.635334   \n",
       "2            1601             A  265073388368581   6.399701  12.926893   \n",
       "3            1601             A  265073428111445  10.532093  13.207614   \n",
       "4            1601             A  265073468081082  16.129736   2.683301   \n",
       "\n",
       "             z  \n",
       "0  0.06404489;  \n",
       "1  -0.6290765;  \n",
       "2  0.45010993;  \n",
       "3  -1.0247183;  \n",
       "4   1.1426327;  "
      ]
     },
     "execution_count": 3,
     "metadata": {},
     "output_type": "execute_result"
    }
   ],
   "source": [
    "df_pa_p01 = pd.read_csv(r'../dataset/raw/phone/accel/data_1601_accel_phone.txt', names = ['participant_id' , 'activity_code' , 'timestamp', 'x', 'y', 'z'], index_col=None, header=None)\n",
    "print(df_pa_p01.info())\n",
    "df_pa_p01.head()"
   ]
  },
  {
   "cell_type": "markdown",
   "id": "7d6ca0fc-3a26-4637-a6f0-5aa8461ebb60",
   "metadata": {},
   "source": [
    "    - Observation\n",
    "        - Most of the data are numeric except for z column"
   ]
  },
  {
   "cell_type": "markdown",
   "id": "8c9bcd92-a08f-4c79-886d-8146c0260875",
   "metadata": {},
   "source": [
    "- Load the phone accelerometer sensor data for participant 2"
   ]
  },
  {
   "cell_type": "code",
   "execution_count": 4,
   "id": "aa422668-d0ec-4b0b-8cc9-117277a58700",
   "metadata": {},
   "outputs": [
    {
     "name": "stdout",
     "output_type": "stream",
     "text": [
      "<class 'pandas.core.frame.DataFrame'>\n",
      "RangeIndex: 84890 entries, 0 to 84889\n",
      "Data columns (total 6 columns):\n",
      " #   Column          Non-Null Count  Dtype  \n",
      "---  ------          --------------  -----  \n",
      " 0   participant_id  84890 non-null  int64  \n",
      " 1   activity_code   84890 non-null  object \n",
      " 2   timestamp       84890 non-null  int64  \n",
      " 3   x               84890 non-null  float64\n",
      " 4   y               84890 non-null  float64\n",
      " 5   z               84890 non-null  object \n",
      "dtypes: float64(2), int64(2), object(2)\n",
      "memory usage: 3.9+ MB\n",
      "None\n"
     ]
    },
    {
     "data": {
      "text/html": [
       "<div>\n",
       "<style scoped>\n",
       "    .dataframe tbody tr th:only-of-type {\n",
       "        vertical-align: middle;\n",
       "    }\n",
       "\n",
       "    .dataframe tbody tr th {\n",
       "        vertical-align: top;\n",
       "    }\n",
       "\n",
       "    .dataframe thead th {\n",
       "        text-align: right;\n",
       "    }\n",
       "</style>\n",
       "<table border=\"1\" class=\"dataframe\">\n",
       "  <thead>\n",
       "    <tr style=\"text-align: right;\">\n",
       "      <th></th>\n",
       "      <th>participant_id</th>\n",
       "      <th>activity_code</th>\n",
       "      <th>timestamp</th>\n",
       "      <th>x</th>\n",
       "      <th>y</th>\n",
       "      <th>z</th>\n",
       "    </tr>\n",
       "  </thead>\n",
       "  <tbody>\n",
       "    <tr>\n",
       "      <th>0</th>\n",
       "      <td>1602</td>\n",
       "      <td>A</td>\n",
       "      <td>99019527581830</td>\n",
       "      <td>-0.923737</td>\n",
       "      <td>-11.386169</td>\n",
       "      <td>8.799728;</td>\n",
       "    </tr>\n",
       "    <tr>\n",
       "      <th>1</th>\n",
       "      <td>1602</td>\n",
       "      <td>A</td>\n",
       "      <td>99019577935834</td>\n",
       "      <td>-2.185410</td>\n",
       "      <td>-12.316559</td>\n",
       "      <td>8.982025;</td>\n",
       "    </tr>\n",
       "    <tr>\n",
       "      <th>2</th>\n",
       "      <td>1602</td>\n",
       "      <td>A</td>\n",
       "      <td>99019628289837</td>\n",
       "      <td>4.615936</td>\n",
       "      <td>-6.947418</td>\n",
       "      <td>1.9848633;</td>\n",
       "    </tr>\n",
       "    <tr>\n",
       "      <th>3</th>\n",
       "      <td>1602</td>\n",
       "      <td>A</td>\n",
       "      <td>99019678643841</td>\n",
       "      <td>6.473099</td>\n",
       "      <td>-11.660782</td>\n",
       "      <td>-2.8489838;</td>\n",
       "    </tr>\n",
       "    <tr>\n",
       "      <th>4</th>\n",
       "      <td>1602</td>\n",
       "      <td>A</td>\n",
       "      <td>99019728997845</td>\n",
       "      <td>-2.869598</td>\n",
       "      <td>-3.154541</td>\n",
       "      <td>-8.561188;</td>\n",
       "    </tr>\n",
       "  </tbody>\n",
       "</table>\n",
       "</div>"
      ],
      "text/plain": [
       "   participant_id activity_code       timestamp         x          y  \\\n",
       "0            1602             A  99019527581830 -0.923737 -11.386169   \n",
       "1            1602             A  99019577935834 -2.185410 -12.316559   \n",
       "2            1602             A  99019628289837  4.615936  -6.947418   \n",
       "3            1602             A  99019678643841  6.473099 -11.660782   \n",
       "4            1602             A  99019728997845 -2.869598  -3.154541   \n",
       "\n",
       "             z  \n",
       "0    8.799728;  \n",
       "1    8.982025;  \n",
       "2   1.9848633;  \n",
       "3  -2.8489838;  \n",
       "4   -8.561188;  "
      ]
     },
     "execution_count": 4,
     "metadata": {},
     "output_type": "execute_result"
    }
   ],
   "source": [
    "df_pa_p02 = pd.read_csv(r'../dataset/raw/phone/accel/data_1602_accel_phone.txt', names = ['participant_id' , 'activity_code' , 'timestamp', 'x', 'y', 'z'], index_col=None, header=None)\n",
    "print(df_pa_p02.info())\n",
    "df_pa_p02.head()"
   ]
  },
  {
   "cell_type": "markdown",
   "id": "9c7609c1-de17-441d-b9c3-9c55024b5c20",
   "metadata": {},
   "source": [
    "    - Observation\n",
    "        - Similar pattern seen as participant 1"
   ]
  },
  {
   "cell_type": "markdown",
   "id": "4b40f2ca-6556-46c2-9c38-da2b2ccbf1f7",
   "metadata": {},
   "source": [
    "- Lets confirm is the remaining participants data is also similar dtype "
   ]
  },
  {
   "cell_type": "code",
   "execution_count": 5,
   "id": "0d066d27-0812-4fa1-be8a-30f3a7633746",
   "metadata": {},
   "outputs": [
    {
     "name": "stderr",
     "output_type": "stream",
     "text": [
      "Checking    100%|███████████████████████████[   51/  51, 00:03<00:00 ]\n"
     ]
    }
   ],
   "source": [
    "for file_name in tqdm(glob.glob(r'../dataset/raw/phone/accel/data_*_accel_phone.txt'),\n",
    "                      desc=\"Checking\",\n",
    "                     bar_format=PBAR_FORMAT):\n",
    "    df_pa = pd.read_csv(file_name, names = ['participant_id' , 'activity_code' , 'timestamp', 'x', 'y', 'z'], index_col=None, header=None)\n",
    "    if (df_pa.dtypes != df_pa_p01.dtypes).any():\n",
    "        print(f\"mismatch in df for file {file_name}\")"
   ]
  },
  {
   "cell_type": "markdown",
   "id": "db052ced-a100-4809-b963-1667258d4624",
   "metadata": {},
   "source": [
    "    - Observation:\n",
    "          - All data csv's have no missing values"
   ]
  },
  {
   "cell_type": "markdown",
   "id": "5e05f2b4-2b9b-4a3a-804f-00ea38e15058",
   "metadata": {},
   "source": [
    "- Check for missing values in csv files"
   ]
  },
  {
   "cell_type": "code",
   "execution_count": 6,
   "id": "99ee2b6a-7406-451f-9e99-52899886674a",
   "metadata": {},
   "outputs": [
    {
     "name": "stderr",
     "output_type": "stream",
     "text": [
      "Checking    100%|███████████████████████████[   51/  51, 00:03<00:00 ]\n"
     ]
    }
   ],
   "source": [
    "for file_name in tqdm(glob.glob(r'../dataset/raw/phone/accel/data_*_accel_phone.txt'),\n",
    "                      desc=\"Checking\",\n",
    "                     bar_format=PBAR_FORMAT):\n",
    "    df_pa = pd.read_csv(file_name, names = ['participant_id' , 'activity_code' , 'timestamp', 'x', 'y', 'z'], index_col=None, header=None)\n",
    "    if (df_pa.notnull().any().any() == False):\n",
    "        print(\"missing value present\")"
   ]
  },
  {
   "cell_type": "markdown",
   "id": "266199e5-be96-48f9-a7da-dfd9074d5262",
   "metadata": {},
   "source": [
    "    - Observation:\n",
    "          - All data csv's have no missing values"
   ]
  },
  {
   "cell_type": "markdown",
   "id": "8351b036-fd2a-4462-aa05-c5fe64566a2a",
   "metadata": {},
   "source": [
    "- Converting z column to float, and add activity column for easy inference"
   ]
  },
  {
   "cell_type": "code",
   "execution_count": 7,
   "id": "98c53d77-61c7-4291-85a4-5bf40bc84d1e",
   "metadata": {},
   "outputs": [],
   "source": [
    "df_pa_p01.z = df_pa_p01.z.str.strip(';')\n",
    "df_pa_p01.z = pd.to_numeric(df_pa_p01.z)"
   ]
  },
  {
   "cell_type": "code",
   "execution_count": 8,
   "id": "601f47c9-b2ce-45ea-a1f6-ec61c3fa95b4",
   "metadata": {},
   "outputs": [
    {
     "data": {
      "text/html": [
       "<div>\n",
       "<style scoped>\n",
       "    .dataframe tbody tr th:only-of-type {\n",
       "        vertical-align: middle;\n",
       "    }\n",
       "\n",
       "    .dataframe tbody tr th {\n",
       "        vertical-align: top;\n",
       "    }\n",
       "\n",
       "    .dataframe thead th {\n",
       "        text-align: right;\n",
       "    }\n",
       "</style>\n",
       "<table border=\"1\" class=\"dataframe\">\n",
       "  <thead>\n",
       "    <tr style=\"text-align: right;\">\n",
       "      <th></th>\n",
       "      <th>participant_id</th>\n",
       "      <th>activity_code</th>\n",
       "      <th>activity</th>\n",
       "      <th>timestamp</th>\n",
       "      <th>x</th>\n",
       "      <th>y</th>\n",
       "      <th>z</th>\n",
       "    </tr>\n",
       "  </thead>\n",
       "  <tbody>\n",
       "    <tr>\n",
       "      <th>0</th>\n",
       "      <td>1601</td>\n",
       "      <td>A</td>\n",
       "      <td>walking</td>\n",
       "      <td>265073308304101</td>\n",
       "      <td>4.703409</td>\n",
       "      <td>9.127296</td>\n",
       "      <td>0.064045</td>\n",
       "    </tr>\n",
       "    <tr>\n",
       "      <th>1</th>\n",
       "      <td>1601</td>\n",
       "      <td>A</td>\n",
       "      <td>walking</td>\n",
       "      <td>265073348330612</td>\n",
       "      <td>5.354632</td>\n",
       "      <td>15.635334</td>\n",
       "      <td>-0.629077</td>\n",
       "    </tr>\n",
       "    <tr>\n",
       "      <th>2</th>\n",
       "      <td>1601</td>\n",
       "      <td>A</td>\n",
       "      <td>walking</td>\n",
       "      <td>265073388368581</td>\n",
       "      <td>6.399701</td>\n",
       "      <td>12.926893</td>\n",
       "      <td>0.450110</td>\n",
       "    </tr>\n",
       "    <tr>\n",
       "      <th>3</th>\n",
       "      <td>1601</td>\n",
       "      <td>A</td>\n",
       "      <td>walking</td>\n",
       "      <td>265073428111445</td>\n",
       "      <td>10.532093</td>\n",
       "      <td>13.207614</td>\n",
       "      <td>-1.024718</td>\n",
       "    </tr>\n",
       "    <tr>\n",
       "      <th>4</th>\n",
       "      <td>1601</td>\n",
       "      <td>A</td>\n",
       "      <td>walking</td>\n",
       "      <td>265073468081082</td>\n",
       "      <td>16.129736</td>\n",
       "      <td>2.683301</td>\n",
       "      <td>1.142633</td>\n",
       "    </tr>\n",
       "    <tr>\n",
       "      <th>...</th>\n",
       "      <td>...</td>\n",
       "      <td>...</td>\n",
       "      <td>...</td>\n",
       "      <td>...</td>\n",
       "      <td>...</td>\n",
       "      <td>...</td>\n",
       "      <td>...</td>\n",
       "    </tr>\n",
       "    <tr>\n",
       "      <th>81452</th>\n",
       "      <td>1601</td>\n",
       "      <td>S</td>\n",
       "      <td>folding clothes</td>\n",
       "      <td>258908699056416</td>\n",
       "      <td>2.015319</td>\n",
       "      <td>9.988011</td>\n",
       "      <td>0.746392</td>\n",
       "    </tr>\n",
       "    <tr>\n",
       "      <th>81453</th>\n",
       "      <td>1601</td>\n",
       "      <td>S</td>\n",
       "      <td>folding clothes</td>\n",
       "      <td>258908738947822</td>\n",
       "      <td>1.681927</td>\n",
       "      <td>10.074801</td>\n",
       "      <td>1.726219</td>\n",
       "    </tr>\n",
       "    <tr>\n",
       "      <th>81454</th>\n",
       "      <td>1601</td>\n",
       "      <td>S</td>\n",
       "      <td>folding clothes</td>\n",
       "      <td>258908778855321</td>\n",
       "      <td>1.148020</td>\n",
       "      <td>9.127296</td>\n",
       "      <td>1.492186</td>\n",
       "    </tr>\n",
       "    <tr>\n",
       "      <th>81455</th>\n",
       "      <td>1601</td>\n",
       "      <td>S</td>\n",
       "      <td>folding clothes</td>\n",
       "      <td>258908818435165</td>\n",
       "      <td>1.417966</td>\n",
       "      <td>9.126099</td>\n",
       "      <td>1.077989</td>\n",
       "    </tr>\n",
       "    <tr>\n",
       "      <th>81456</th>\n",
       "      <td>1601</td>\n",
       "      <td>S</td>\n",
       "      <td>folding clothes</td>\n",
       "      <td>258908858366259</td>\n",
       "      <td>1.383250</td>\n",
       "      <td>10.053851</td>\n",
       "      <td>2.373252</td>\n",
       "    </tr>\n",
       "  </tbody>\n",
       "</table>\n",
       "<p>81457 rows × 7 columns</p>\n",
       "</div>"
      ],
      "text/plain": [
       "       participant_id activity_code         activity        timestamp  \\\n",
       "0                1601             A          walking  265073308304101   \n",
       "1                1601             A          walking  265073348330612   \n",
       "2                1601             A          walking  265073388368581   \n",
       "3                1601             A          walking  265073428111445   \n",
       "4                1601             A          walking  265073468081082   \n",
       "...               ...           ...              ...              ...   \n",
       "81452            1601             S  folding clothes  258908699056416   \n",
       "81453            1601             S  folding clothes  258908738947822   \n",
       "81454            1601             S  folding clothes  258908778855321   \n",
       "81455            1601             S  folding clothes  258908818435165   \n",
       "81456            1601             S  folding clothes  258908858366259   \n",
       "\n",
       "               x          y         z  \n",
       "0       4.703409   9.127296  0.064045  \n",
       "1       5.354632  15.635334 -0.629077  \n",
       "2       6.399701  12.926893  0.450110  \n",
       "3      10.532093  13.207614 -1.024718  \n",
       "4      16.129736   2.683301  1.142633  \n",
       "...          ...        ...       ...  \n",
       "81452   2.015319   9.988011  0.746392  \n",
       "81453   1.681927  10.074801  1.726219  \n",
       "81454   1.148020   9.127296  1.492186  \n",
       "81455   1.417966   9.126099  1.077989  \n",
       "81456   1.383250  10.053851  2.373252  \n",
       "\n",
       "[81457 rows x 7 columns]"
      ]
     },
     "execution_count": 8,
     "metadata": {},
     "output_type": "execute_result"
    }
   ],
   "source": [
    "df_pa_p01['activity'] = df_pa_p01['activity_code'].map(activity_codes_mapping)\n",
    "df_pa_p01 = df_pa_p01[['participant_id', 'activity_code', 'activity', 'timestamp', 'x', 'y', 'z']]\n",
    "\n",
    "df_pa_p01"
   ]
  },
  {
   "cell_type": "markdown",
   "id": "80975f02-4b6d-4888-86d3-dcb82cdff9a0",
   "metadata": {},
   "source": [
    "## Phone Gyroscope"
   ]
  },
  {
   "cell_type": "code",
   "execution_count": 9,
   "id": "32cb8e6e-9a7e-4176-b8ce-f23027b79084",
   "metadata": {},
   "outputs": [
    {
     "name": "stdout",
     "output_type": "stream",
     "text": [
      "<class 'pandas.core.frame.DataFrame'>\n",
      "RangeIndex: 81193 entries, 0 to 81192\n",
      "Data columns (total 6 columns):\n",
      " #   Column          Non-Null Count  Dtype  \n",
      "---  ------          --------------  -----  \n",
      " 0   participant_id  81193 non-null  int64  \n",
      " 1   activity_code   81193 non-null  object \n",
      " 2   timestamp       81193 non-null  int64  \n",
      " 3   x               81193 non-null  float64\n",
      " 4   y               81193 non-null  float64\n",
      " 5   z               81193 non-null  object \n",
      "dtypes: float64(2), int64(2), object(2)\n",
      "memory usage: 3.7+ MB\n",
      "None\n"
     ]
    },
    {
     "data": {
      "text/html": [
       "<div>\n",
       "<style scoped>\n",
       "    .dataframe tbody tr th:only-of-type {\n",
       "        vertical-align: middle;\n",
       "    }\n",
       "\n",
       "    .dataframe tbody tr th {\n",
       "        vertical-align: top;\n",
       "    }\n",
       "\n",
       "    .dataframe thead th {\n",
       "        text-align: right;\n",
       "    }\n",
       "</style>\n",
       "<table border=\"1\" class=\"dataframe\">\n",
       "  <thead>\n",
       "    <tr style=\"text-align: right;\">\n",
       "      <th></th>\n",
       "      <th>participant_id</th>\n",
       "      <th>activity_code</th>\n",
       "      <th>timestamp</th>\n",
       "      <th>x</th>\n",
       "      <th>y</th>\n",
       "      <th>z</th>\n",
       "    </tr>\n",
       "  </thead>\n",
       "  <tbody>\n",
       "    <tr>\n",
       "      <th>0</th>\n",
       "      <td>1601</td>\n",
       "      <td>A</td>\n",
       "      <td>265073308304101</td>\n",
       "      <td>-0.020240</td>\n",
       "      <td>-0.004261</td>\n",
       "      <td>-0.023435818;</td>\n",
       "    </tr>\n",
       "    <tr>\n",
       "      <th>1</th>\n",
       "      <td>1601</td>\n",
       "      <td>A</td>\n",
       "      <td>265073348330612</td>\n",
       "      <td>-1.213602</td>\n",
       "      <td>0.055394</td>\n",
       "      <td>-0.36964676;</td>\n",
       "    </tr>\n",
       "    <tr>\n",
       "      <th>2</th>\n",
       "      <td>1601</td>\n",
       "      <td>A</td>\n",
       "      <td>265073388368581</td>\n",
       "      <td>-2.417352</td>\n",
       "      <td>1.124387</td>\n",
       "      <td>-1.644502;</td>\n",
       "    </tr>\n",
       "    <tr>\n",
       "      <th>3</th>\n",
       "      <td>1601</td>\n",
       "      <td>A</td>\n",
       "      <td>265073428111445</td>\n",
       "      <td>-3.075152</td>\n",
       "      <td>1.530252</td>\n",
       "      <td>-1.6729978;</td>\n",
       "    </tr>\n",
       "    <tr>\n",
       "      <th>4</th>\n",
       "      <td>1601</td>\n",
       "      <td>A</td>\n",
       "      <td>265073468081082</td>\n",
       "      <td>0.011185</td>\n",
       "      <td>4.576909</td>\n",
       "      <td>-0.24367924;</td>\n",
       "    </tr>\n",
       "  </tbody>\n",
       "</table>\n",
       "</div>"
      ],
      "text/plain": [
       "   participant_id activity_code        timestamp         x         y  \\\n",
       "0            1601             A  265073308304101 -0.020240 -0.004261   \n",
       "1            1601             A  265073348330612 -1.213602  0.055394   \n",
       "2            1601             A  265073388368581 -2.417352  1.124387   \n",
       "3            1601             A  265073428111445 -3.075152  1.530252   \n",
       "4            1601             A  265073468081082  0.011185  4.576909   \n",
       "\n",
       "               z  \n",
       "0  -0.023435818;  \n",
       "1   -0.36964676;  \n",
       "2     -1.644502;  \n",
       "3    -1.6729978;  \n",
       "4   -0.24367924;  "
      ]
     },
     "execution_count": 9,
     "metadata": {},
     "output_type": "execute_result"
    }
   ],
   "source": [
    "df_pg_p01 = pd.read_csv(r'../dataset/raw/phone/gyro/data_1601_gyro_phone.txt', names = ['participant_id' , 'activity_code' , 'timestamp', 'x', 'y', 'z'], index_col=None, header=None)\n",
    "print(df_pg_p01.info())\n",
    "df_pg_p01.head()"
   ]
  },
  {
   "cell_type": "markdown",
   "id": "28ecc9a9-de21-4624-8af4-6aac4da0111d",
   "metadata": {},
   "source": [
    "    - Observation\n",
    "        - Most of the data are numeric except for z column"
   ]
  },
  {
   "cell_type": "markdown",
   "id": "523aeb75-d8b8-40b8-b4ec-93cd461cbb9f",
   "metadata": {},
   "source": [
    "- Load the watch gyro sensor data for participant 2"
   ]
  },
  {
   "cell_type": "code",
   "execution_count": 10,
   "id": "24fc6f22-1610-4e08-848e-ebfee4e110fe",
   "metadata": {},
   "outputs": [
    {
     "name": "stdout",
     "output_type": "stream",
     "text": [
      "<class 'pandas.core.frame.DataFrame'>\n",
      "RangeIndex: 64286 entries, 0 to 64285\n",
      "Data columns (total 6 columns):\n",
      " #   Column          Non-Null Count  Dtype  \n",
      "---  ------          --------------  -----  \n",
      " 0   participant_id  64286 non-null  int64  \n",
      " 1   activity_code   64286 non-null  object \n",
      " 2   timestamp       64286 non-null  int64  \n",
      " 3   x               64286 non-null  float64\n",
      " 4   y               64286 non-null  float64\n",
      " 5   z               64286 non-null  object \n",
      "dtypes: float64(2), int64(2), object(2)\n",
      "memory usage: 2.9+ MB\n",
      "None\n"
     ]
    },
    {
     "data": {
      "text/html": [
       "<div>\n",
       "<style scoped>\n",
       "    .dataframe tbody tr th:only-of-type {\n",
       "        vertical-align: middle;\n",
       "    }\n",
       "\n",
       "    .dataframe tbody tr th {\n",
       "        vertical-align: top;\n",
       "    }\n",
       "\n",
       "    .dataframe thead th {\n",
       "        text-align: right;\n",
       "    }\n",
       "</style>\n",
       "<table border=\"1\" class=\"dataframe\">\n",
       "  <thead>\n",
       "    <tr style=\"text-align: right;\">\n",
       "      <th></th>\n",
       "      <th>participant_id</th>\n",
       "      <th>activity_code</th>\n",
       "      <th>timestamp</th>\n",
       "      <th>x</th>\n",
       "      <th>y</th>\n",
       "      <th>z</th>\n",
       "    </tr>\n",
       "  </thead>\n",
       "  <tbody>\n",
       "    <tr>\n",
       "      <th>0</th>\n",
       "      <td>1602</td>\n",
       "      <td>A</td>\n",
       "      <td>99019678643841</td>\n",
       "      <td>-0.719742</td>\n",
       "      <td>0.398651</td>\n",
       "      <td>-0.16711426;</td>\n",
       "    </tr>\n",
       "    <tr>\n",
       "      <th>1</th>\n",
       "      <td>1602</td>\n",
       "      <td>A</td>\n",
       "      <td>99019728997845</td>\n",
       "      <td>-0.957825</td>\n",
       "      <td>1.615234</td>\n",
       "      <td>-0.111709595;</td>\n",
       "    </tr>\n",
       "    <tr>\n",
       "      <th>2</th>\n",
       "      <td>1602</td>\n",
       "      <td>A</td>\n",
       "      <td>99019779351849</td>\n",
       "      <td>-1.881058</td>\n",
       "      <td>1.473206</td>\n",
       "      <td>0.83522034;</td>\n",
       "    </tr>\n",
       "    <tr>\n",
       "      <th>3</th>\n",
       "      <td>1602</td>\n",
       "      <td>A</td>\n",
       "      <td>99019829705853</td>\n",
       "      <td>-1.575790</td>\n",
       "      <td>0.241714</td>\n",
       "      <td>0.34750366;</td>\n",
       "    </tr>\n",
       "    <tr>\n",
       "      <th>4</th>\n",
       "      <td>1602</td>\n",
       "      <td>A</td>\n",
       "      <td>99019880059857</td>\n",
       "      <td>-1.639481</td>\n",
       "      <td>1.097153</td>\n",
       "      <td>0.34846497;</td>\n",
       "    </tr>\n",
       "  </tbody>\n",
       "</table>\n",
       "</div>"
      ],
      "text/plain": [
       "   participant_id activity_code       timestamp         x         y  \\\n",
       "0            1602             A  99019678643841 -0.719742  0.398651   \n",
       "1            1602             A  99019728997845 -0.957825  1.615234   \n",
       "2            1602             A  99019779351849 -1.881058  1.473206   \n",
       "3            1602             A  99019829705853 -1.575790  0.241714   \n",
       "4            1602             A  99019880059857 -1.639481  1.097153   \n",
       "\n",
       "               z  \n",
       "0   -0.16711426;  \n",
       "1  -0.111709595;  \n",
       "2    0.83522034;  \n",
       "3    0.34750366;  \n",
       "4    0.34846497;  "
      ]
     },
     "execution_count": 10,
     "metadata": {},
     "output_type": "execute_result"
    }
   ],
   "source": [
    "df_pg_p02 = pd.read_csv(r'../dataset/raw/phone/gyro/data_1602_gyro_phone.txt', names = ['participant_id' , 'activity_code' , 'timestamp', 'x', 'y', 'z'], index_col=None, header=None)\n",
    "print(df_pg_p02.info())\n",
    "df_pg_p02.head()"
   ]
  },
  {
   "cell_type": "markdown",
   "id": "e6812c43-2e27-437f-a316-eb8d84914620",
   "metadata": {},
   "source": [
    "    - Observation\n",
    "        - Similar pattern seen as participant 1"
   ]
  },
  {
   "cell_type": "markdown",
   "id": "0442ba71-431f-415f-94d5-488ec4b14436",
   "metadata": {},
   "source": [
    "- Lets confirm is the remaining participants data is also similar dtype "
   ]
  },
  {
   "cell_type": "code",
   "execution_count": 11,
   "id": "b1df7b0e-c89e-47ab-bbf6-333c4cc9fd66",
   "metadata": {},
   "outputs": [
    {
     "name": "stderr",
     "output_type": "stream",
     "text": [
      "Checking    100%|███████████████████████████[   51/  51, 00:02<00:00 ]\n"
     ]
    }
   ],
   "source": [
    "for file_name in tqdm(glob.glob(r'../dataset/raw/phone/gyro/data_*_gyro_phone.txt'),\n",
    "                      desc=\"Checking\",\n",
    "                     bar_format=PBAR_FORMAT):\n",
    "    df_pg = pd.read_csv(file_name, names = ['participant_id' , 'activity_code' , 'timestamp', 'x', 'y', 'z'], index_col=None, header=None)\n",
    "    if (df_pg.dtypes != df_pg_p01.dtypes).any():\n",
    "        print(f\"mismatch in df for file {file_name}\")"
   ]
  },
  {
   "cell_type": "markdown",
   "id": "56e50be5-d4bd-44e2-9ba5-bcc6109f35a5",
   "metadata": {},
   "source": [
    "    - Observation:\n",
    "          - All data csv's have same data type as that of participant 1"
   ]
  },
  {
   "cell_type": "markdown",
   "id": "9a4720ed-341f-4817-a678-9e50276d068d",
   "metadata": {},
   "source": [
    "- Check for missing values in csv files"
   ]
  },
  {
   "cell_type": "code",
   "execution_count": 12,
   "id": "4e159b63-303e-4663-a6c4-0a885445b084",
   "metadata": {},
   "outputs": [
    {
     "name": "stderr",
     "output_type": "stream",
     "text": [
      "Checking    100%|███████████████████████████[   51/  51, 00:02<00:00 ]\n"
     ]
    }
   ],
   "source": [
    "for file_name in tqdm(glob.glob(r'../dataset/raw/watch/gyro/data_*_gyro_watch.txt'),\n",
    "                      desc=\"Checking\",\n",
    "                     bar_format=PBAR_FORMAT):\n",
    "    df_pg = pd.read_csv(file_name, names = ['participant_id' , 'activity_code' , 'timestamp', 'x', 'y', 'z'], index_col=None, header=None)\n",
    "    if (df_pg.notnull().any().any() == False):\n",
    "        print(\"missing value present\")"
   ]
  },
  {
   "cell_type": "markdown",
   "id": "89fb6356-f28a-4d15-8be6-f1667cd1c8aa",
   "metadata": {},
   "source": [
    "    - Observation:\n",
    "          - All data csv's have no missing values"
   ]
  },
  {
   "cell_type": "markdown",
   "id": "02778b66-4785-463b-91ed-baa19f225156",
   "metadata": {},
   "source": [
    "- Converting z column to float, and add activity column for easy inference"
   ]
  },
  {
   "cell_type": "code",
   "execution_count": 13,
   "id": "066f1e99-3a54-45f9-8ebf-d60551c75fc5",
   "metadata": {},
   "outputs": [],
   "source": [
    "df_pg_p01.z = df_pg_p01.z.str.strip(';')\n",
    "df_pg_p01.z = pd.to_numeric(df_pg_p01.z)"
   ]
  },
  {
   "cell_type": "code",
   "execution_count": 14,
   "id": "34db1960-f40b-4c47-abfe-8b8b2f58b870",
   "metadata": {},
   "outputs": [
    {
     "data": {
      "text/html": [
       "<div>\n",
       "<style scoped>\n",
       "    .dataframe tbody tr th:only-of-type {\n",
       "        vertical-align: middle;\n",
       "    }\n",
       "\n",
       "    .dataframe tbody tr th {\n",
       "        vertical-align: top;\n",
       "    }\n",
       "\n",
       "    .dataframe thead th {\n",
       "        text-align: right;\n",
       "    }\n",
       "</style>\n",
       "<table border=\"1\" class=\"dataframe\">\n",
       "  <thead>\n",
       "    <tr style=\"text-align: right;\">\n",
       "      <th></th>\n",
       "      <th>participant_id</th>\n",
       "      <th>activity_code</th>\n",
       "      <th>activity</th>\n",
       "      <th>timestamp</th>\n",
       "      <th>x</th>\n",
       "      <th>y</th>\n",
       "      <th>z</th>\n",
       "    </tr>\n",
       "  </thead>\n",
       "  <tbody>\n",
       "    <tr>\n",
       "      <th>0</th>\n",
       "      <td>1601</td>\n",
       "      <td>A</td>\n",
       "      <td>walking</td>\n",
       "      <td>265073308304101</td>\n",
       "      <td>-0.020240</td>\n",
       "      <td>-0.004261</td>\n",
       "      <td>-0.023436</td>\n",
       "    </tr>\n",
       "    <tr>\n",
       "      <th>1</th>\n",
       "      <td>1601</td>\n",
       "      <td>A</td>\n",
       "      <td>walking</td>\n",
       "      <td>265073348330612</td>\n",
       "      <td>-1.213602</td>\n",
       "      <td>0.055394</td>\n",
       "      <td>-0.369647</td>\n",
       "    </tr>\n",
       "    <tr>\n",
       "      <th>2</th>\n",
       "      <td>1601</td>\n",
       "      <td>A</td>\n",
       "      <td>walking</td>\n",
       "      <td>265073388368581</td>\n",
       "      <td>-2.417352</td>\n",
       "      <td>1.124387</td>\n",
       "      <td>-1.644502</td>\n",
       "    </tr>\n",
       "    <tr>\n",
       "      <th>3</th>\n",
       "      <td>1601</td>\n",
       "      <td>A</td>\n",
       "      <td>walking</td>\n",
       "      <td>265073428111445</td>\n",
       "      <td>-3.075152</td>\n",
       "      <td>1.530252</td>\n",
       "      <td>-1.672998</td>\n",
       "    </tr>\n",
       "    <tr>\n",
       "      <th>4</th>\n",
       "      <td>1601</td>\n",
       "      <td>A</td>\n",
       "      <td>walking</td>\n",
       "      <td>265073468081082</td>\n",
       "      <td>0.011185</td>\n",
       "      <td>4.576909</td>\n",
       "      <td>-0.243679</td>\n",
       "    </tr>\n",
       "    <tr>\n",
       "      <th>...</th>\n",
       "      <td>...</td>\n",
       "      <td>...</td>\n",
       "      <td>...</td>\n",
       "      <td>...</td>\n",
       "      <td>...</td>\n",
       "      <td>...</td>\n",
       "      <td>...</td>\n",
       "    </tr>\n",
       "    <tr>\n",
       "      <th>81188</th>\n",
       "      <td>1601</td>\n",
       "      <td>S</td>\n",
       "      <td>folding clothes</td>\n",
       "      <td>258908699056416</td>\n",
       "      <td>0.034621</td>\n",
       "      <td>-0.045806</td>\n",
       "      <td>-0.041812</td>\n",
       "    </tr>\n",
       "    <tr>\n",
       "      <th>81189</th>\n",
       "      <td>1601</td>\n",
       "      <td>S</td>\n",
       "      <td>folding clothes</td>\n",
       "      <td>258908738947822</td>\n",
       "      <td>0.146474</td>\n",
       "      <td>0.045274</td>\n",
       "      <td>-0.059655</td>\n",
       "    </tr>\n",
       "    <tr>\n",
       "      <th>81190</th>\n",
       "      <td>1601</td>\n",
       "      <td>S</td>\n",
       "      <td>folding clothes</td>\n",
       "      <td>258908778855321</td>\n",
       "      <td>0.019175</td>\n",
       "      <td>0.034887</td>\n",
       "      <td>-0.078563</td>\n",
       "    </tr>\n",
       "    <tr>\n",
       "      <th>81191</th>\n",
       "      <td>1601</td>\n",
       "      <td>S</td>\n",
       "      <td>folding clothes</td>\n",
       "      <td>258908818435165</td>\n",
       "      <td>0.226901</td>\n",
       "      <td>-0.001065</td>\n",
       "      <td>-0.113451</td>\n",
       "    </tr>\n",
       "    <tr>\n",
       "      <th>81192</th>\n",
       "      <td>1601</td>\n",
       "      <td>S</td>\n",
       "      <td>folding clothes</td>\n",
       "      <td>258908858366259</td>\n",
       "      <td>0.304133</td>\n",
       "      <td>0.148338</td>\n",
       "      <td>-0.103597</td>\n",
       "    </tr>\n",
       "  </tbody>\n",
       "</table>\n",
       "<p>81193 rows × 7 columns</p>\n",
       "</div>"
      ],
      "text/plain": [
       "       participant_id activity_code         activity        timestamp  \\\n",
       "0                1601             A          walking  265073308304101   \n",
       "1                1601             A          walking  265073348330612   \n",
       "2                1601             A          walking  265073388368581   \n",
       "3                1601             A          walking  265073428111445   \n",
       "4                1601             A          walking  265073468081082   \n",
       "...               ...           ...              ...              ...   \n",
       "81188            1601             S  folding clothes  258908699056416   \n",
       "81189            1601             S  folding clothes  258908738947822   \n",
       "81190            1601             S  folding clothes  258908778855321   \n",
       "81191            1601             S  folding clothes  258908818435165   \n",
       "81192            1601             S  folding clothes  258908858366259   \n",
       "\n",
       "              x         y         z  \n",
       "0     -0.020240 -0.004261 -0.023436  \n",
       "1     -1.213602  0.055394 -0.369647  \n",
       "2     -2.417352  1.124387 -1.644502  \n",
       "3     -3.075152  1.530252 -1.672998  \n",
       "4      0.011185  4.576909 -0.243679  \n",
       "...         ...       ...       ...  \n",
       "81188  0.034621 -0.045806 -0.041812  \n",
       "81189  0.146474  0.045274 -0.059655  \n",
       "81190  0.019175  0.034887 -0.078563  \n",
       "81191  0.226901 -0.001065 -0.113451  \n",
       "81192  0.304133  0.148338 -0.103597  \n",
       "\n",
       "[81193 rows x 7 columns]"
      ]
     },
     "execution_count": 14,
     "metadata": {},
     "output_type": "execute_result"
    }
   ],
   "source": [
    "df_pg_p01['activity'] = df_pg_p01['activity_code'].map(activity_codes_mapping)\n",
    "df_pg_p01 = df_pg_p01[['participant_id', 'activity_code', 'activity', 'timestamp', 'x', 'y', 'z']]\n",
    "\n",
    "df_pg_p01"
   ]
  },
  {
   "cell_type": "code",
   "execution_count": null,
   "id": "f4193807-15e9-4c34-865a-a0ddd1d9b305",
   "metadata": {},
   "outputs": [],
   "source": []
  }
 ],
 "metadata": {
  "kernelspec": {
   "display_name": "Python 3 (ipykernel)",
   "language": "python",
   "name": "python3"
  },
  "language_info": {
   "codemirror_mode": {
    "name": "ipython",
    "version": 3
   },
   "file_extension": ".py",
   "mimetype": "text/x-python",
   "name": "python",
   "nbconvert_exporter": "python",
   "pygments_lexer": "ipython3",
   "version": "3.8.10"
  }
 },
 "nbformat": 4,
 "nbformat_minor": 5
}
