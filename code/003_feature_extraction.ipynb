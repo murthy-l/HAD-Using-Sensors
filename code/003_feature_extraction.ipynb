{
 "cells": [
  {
   "cell_type": "markdown",
   "id": "eaa7e11a-7a48-4456-96be-7f2ce4593e36",
   "metadata": {},
   "source": [
    "# Detecting Human Activities Through Smartphone Sensor - Feature engineering"
   ]
  },
  {
   "cell_type": "markdown",
   "id": "0d9cec8d-559d-4c31-96c6-1a8720e8610f",
   "metadata": {},
   "source": [
    "## Import"
   ]
  },
  {
   "cell_type": "code",
   "execution_count": 1,
   "id": "fa007308-9005-4b3d-9200-147b95675389",
   "metadata": {},
   "outputs": [],
   "source": [
    "import os\n",
    "from tqdm import tqdm\n",
    "import math\n",
    "import pandas as pd\n",
    "import numpy as np\n",
    "import scipy.fftpack\n"
   ]
  },
  {
   "cell_type": "markdown",
   "id": "07962192-5bfd-40fd-8811-80e68d4ded3c",
   "metadata": {},
   "source": [
    "## Global"
   ]
  },
  {
   "cell_type": "code",
   "execution_count": 2,
   "id": "57a7079b-e784-4333-810a-7e524bfd5a34",
   "metadata": {},
   "outputs": [],
   "source": [
    "PBAR_FORMAT='{desc:12} {percentage:3.0f}%|{bar:27}| [ {n:4d}/{total:4d}, {elapsed}<{remaining}{postfix} ]'\n",
    "WINDOW_SIZE=200"
   ]
  },
  {
   "cell_type": "markdown",
   "id": "e1f76fa8-e891-4ab6-914d-c9cc661d28fc",
   "metadata": {},
   "source": [
    "## Features"
   ]
  },
  {
   "cell_type": "markdown",
   "id": "4113eff2-2475-4f52-a736-0d40a7109a3b",
   "metadata": {},
   "source": [
    "### Average"
   ]
  },
  {
   "cell_type": "code",
   "execution_count": 3,
   "id": "965a9889-c0ad-4bef-8d09-6029565e1288",
   "metadata": {},
   "outputs": [],
   "source": [
    "def get_avg(a):\n",
    "    return a.mean()"
   ]
  },
  {
   "cell_type": "markdown",
   "id": "31b51d50-a544-42e6-af62-1dea6976206e",
   "metadata": {},
   "source": [
    "### Standard deviation"
   ]
  },
  {
   "cell_type": "code",
   "execution_count": 4,
   "id": "2b8a5068-642c-480f-989f-bd4b9d238f3c",
   "metadata": {},
   "outputs": [],
   "source": [
    "def get_stddev(a):\n",
    "    return np.std(a)"
   ]
  },
  {
   "cell_type": "markdown",
   "id": "143790a4-744b-408e-b883-727f405fab5c",
   "metadata": {},
   "source": [
    "### Variance"
   ]
  },
  {
   "cell_type": "code",
   "execution_count": 5,
   "id": "9fb073a7-225d-43f6-a378-7714101e0fb1",
   "metadata": {},
   "outputs": [],
   "source": [
    "def get_var(a):\n",
    "    return np.var(a)\n",
    "\n"
   ]
  },
  {
   "cell_type": "markdown",
   "id": "43b7935f-fad6-444e-bede-c88e9d5610be",
   "metadata": {},
   "source": [
    "### ABSOLDEV"
   ]
  },
  {
   "cell_type": "code",
   "execution_count": 6,
   "id": "0c462c09-1e0c-4fc0-9338-ef265f890f59",
   "metadata": {},
   "outputs": [],
   "source": [
    "def get_absoldev(a):\n",
    "    return np.mean(np.abs(a - np.mean(a)))"
   ]
  },
  {
   "cell_type": "markdown",
   "id": "5cf95434-b79c-4305-99ca-8037cbd92f92",
   "metadata": {},
   "source": [
    "### Cosine distance"
   ]
  },
  {
   "cell_type": "code",
   "execution_count": 7,
   "id": "379c4c92-61cb-4629-b35a-9115c031624b",
   "metadata": {},
   "outputs": [],
   "source": [
    "def get_cos(a, b):\n",
    "    return np.dot(a, b) / (np.linalg.norm(a) * np.linalg.norm(b))\n"
   ]
  },
  {
   "cell_type": "markdown",
   "id": "648d7b1d-d22f-4903-836c-907a49f4d3b1",
   "metadata": {},
   "source": [
    "## Correlation"
   ]
  },
  {
   "cell_type": "code",
   "execution_count": 8,
   "id": "3c32a941-21d6-425f-a8c4-5c5cb323da09",
   "metadata": {},
   "outputs": [],
   "source": [
    "def get_cor(a, b):\n",
    "    return np.corrcoef(a,b)[0][1]"
   ]
  },
  {
   "cell_type": "markdown",
   "id": "6950ecec-7ece-454e-be2d-a9e20a7746b8",
   "metadata": {},
   "source": [
    "### Resultant"
   ]
  },
  {
   "cell_type": "code",
   "execution_count": 9,
   "id": "90eb0a98-3a13-4e1e-b737-1104bd45131b",
   "metadata": {},
   "outputs": [],
   "source": [
    "def get_resultant(x, y, z):\n",
    "    resultant = np.sqrt(x**2 + y**2 + z**2)\n",
    "    average_resultant = np.mean(resultant)\n",
    "    return average_resultant"
   ]
  },
  {
   "cell_type": "markdown",
   "id": "7095243a-b647-4b43-b520-5c8b3c6f50e4",
   "metadata": {},
   "source": [
    "### Activity extractor"
   ]
  },
  {
   "cell_type": "code",
   "execution_count": 10,
   "id": "456b54fa-c69c-4be3-be44-5df1d8d9ebfe",
   "metadata": {},
   "outputs": [],
   "source": [
    "def calc_activity(arr, window_size, data_length):\n",
    "    f = np.empty([data_length], dtype=arr.dtype)\n",
    "    for i in range(data_length):\n",
    "        start = i * window_size\n",
    "        f[i] = arr[start]\n",
    "    return f"
   ]
  },
  {
   "cell_type": "markdown",
   "id": "b80f9d84-ee9f-40ea-9459-f397f15bb909",
   "metadata": {},
   "source": [
    "### Binned distribution"
   ]
  },
  {
   "cell_type": "code",
   "execution_count": 11,
   "id": "9db06a3e-8fb1-41d2-b376-b4e110cdbfbd",
   "metadata": {},
   "outputs": [],
   "source": [
    "def binned_distribution(data):\n",
    "    data_min = np.min(data)\n",
    "    data_max = np.max(data)\n",
    "    bins = np.linspace(data_min, data_max, 11)  # 11 edges, so 10 bins\n",
    "    # Use np.histogram to calculate the histogram and the fraction of values in each bin\n",
    "    hist, _ = np.histogram(data, bins=bins)\n",
    "    # Normalize the histogram to get the fraction\n",
    "    bin_fractions = hist / len(data)\n",
    "    return np.array(bin_fractions)\n",
    "\n",
    "def calc_bindist(arr, bins, window_size, data_length):\n",
    "    f = np.zeros([data_length, bins])\n",
    "    for i in range(data_length):\n",
    "        start = i * window_size\n",
    "        f[i] = binned_distribution(arr[start:start+window_size])\n",
    "    return f"
   ]
  },
  {
   "cell_type": "markdown",
   "id": "8c52f364-6615-468f-afca-1e0534aa9bc3",
   "metadata": {},
   "source": [
    "### MFCC"
   ]
  },
  {
   "cell_type": "code",
   "execution_count": 12,
   "id": "0a7ef6e4-dc73-4a61-ace4-72ca8fed8d8e",
   "metadata": {},
   "outputs": [],
   "source": [
    "def compute_mfcc(signal, sampling_rate=20, num_mfcc=13, frame_size=200, hop_size=200, num_mels=40):\n",
    "    # Step 1: Frame the signal\n",
    "    num_frames = 1 + (len(signal) - frame_size) // hop_size\n",
    "    frames = np.zeros((num_frames, frame_size))\n",
    "    for i in range(num_frames):\n",
    "        start = i * hop_size\n",
    "        frames[i] = signal[start:start + frame_size] * np.hamming(frame_size)\n",
    "\n",
    "    # Step 2: Compute the FFT and Power Spectrum\n",
    "    n_fft = frame_size\n",
    "    fft = np.fft.rfft(frames, n=n_fft)\n",
    "    power_spectrum = (1.0 / n_fft) * (np.abs(fft) ** 2)\n",
    "\n",
    "    # Step 3: Apply Mel Filter Bank\n",
    "    mel_filters = np.zeros((num_mels, n_fft // 2 + 1))\n",
    "    mel_min = 0\n",
    "    mel_max = 2595 * np.log10(1 + (sampling_rate / 2) / 700)  # Convert max frequency to Mel scale\n",
    "    mel_points = np.linspace(mel_min, mel_max, num_mels + 2)  # Mel points\n",
    "    hz_points = 700 * (10 ** (mel_points / 2595) - 1)         # Convert Mel points back to Hz\n",
    "    bin_points = np.floor((n_fft + 1) * hz_points / sampling_rate).astype(int)  # FFT bin indices\n",
    "\n",
    "    for m in range(1, num_mels + 1):\n",
    "        mel_filters[m - 1, bin_points[m - 1]:bin_points[m]] = np.linspace(0, 1, bin_points[m] - bin_points[m - 1])\n",
    "        mel_filters[m - 1, bin_points[m]:bin_points[m + 1]] = np.linspace(1, 0, bin_points[m + 1] - bin_points[m])\n",
    "\n",
    "    mel_power = np.dot(power_spectrum, mel_filters.T)\n",
    "    mel_power = np.where(mel_power == 0, np.finfo(float).eps, mel_power)  # Avoid log(0)\n",
    "\n",
    "    # Step 4: Log Mel Spectrum\n",
    "    log_mel_power = np.log(mel_power)\n",
    "\n",
    "    # Step 5: Discrete Cosine Transform (DCT)\n",
    "    mfccs = scipy.fftpack.dct(log_mel_power, axis=1, norm='ortho')[:, :num_mfcc]\n",
    "\n",
    "    mfccs = mfccs.T  # Transpose to get shape (num_mfcc x num_frames)\n",
    "\n",
    "    mfccs =(mfccs - mfccs.min())/(mfccs.max()-mfccs.min())\n",
    "    return mfccs"
   ]
  },
  {
   "cell_type": "markdown",
   "id": "ae9fcbba-2d2e-4bd7-98f3-411d22867e5d",
   "metadata": {},
   "source": [
    "### Utility for windowing"
   ]
  },
  {
   "cell_type": "code",
   "execution_count": 13,
   "id": "d573b494-5c48-427b-a799-7a332675951e",
   "metadata": {},
   "outputs": [],
   "source": [
    "def calc(arr, window_size, data_length, op):\n",
    "    f = np.zeros([data_length])\n",
    "    for i in range(data_length):\n",
    "        start = i * window_size\n",
    "        f[i] = op(arr[start:start+window_size])\n",
    "    return f\n",
    "\n",
    "def calc_2i(arr0, arr1, window_size, data_length, op):\n",
    "    f = np.zeros([data_length])\n",
    "    for i in range(data_length):\n",
    "        start = i * window_size\n",
    "        f[i] = op(arr0[start:start+window_size],arr1[start:start+window_size])\n",
    "    return f\n",
    "\n",
    "def calc_3i(arr0, arr1, arr2, window_size, data_length, op):\n",
    "    f = np.zeros([data_length])\n",
    "    for i in range(data_length):\n",
    "        start = i * window_size\n",
    "        f[i] = op(arr0[start:start+window_size],\n",
    "                 arr1[start:start+window_size],\n",
    "                 arr2[start:start+window_size])\n",
    "    return f"
   ]
  },
  {
   "cell_type": "markdown",
   "id": "4814c518-f0ae-4f0e-9d7b-7b0a7ddf451f",
   "metadata": {},
   "source": [
    "## Extraction"
   ]
  },
  {
   "cell_type": "code",
   "execution_count": 14,
   "id": "fd520598-ef61-4b80-8fc3-ae71a95e5501",
   "metadata": {},
   "outputs": [],
   "source": [
    "extracted_features = ['ACTIVITY',\n",
    "                        'X0', # 1st bin fraction of x axis acceleration distribution\n",
    "                        'X1', # 2nd bin fraction ...\n",
    "                        'X2',\n",
    "                        'X3',\n",
    "                        'X4',\n",
    "                        'X5',\n",
    "                        'X6',\n",
    "                        'X7',\n",
    "                        'X8',\n",
    "                        'X9',\n",
    "                        'Y0', # 1st bin fraction of y axis acceleration distribution\n",
    "                        'Y1', # 2nd bin fraction ...\n",
    "                        'Y2',\n",
    "                        'Y3',\n",
    "                        'Y4',\n",
    "                        'Y5',\n",
    "                        'Y6',\n",
    "                        'Y7',\n",
    "                        'Y8',\n",
    "                        'Y9',\n",
    "                        'Z0', # 1st bin fraction of z axis acceleration distribution\n",
    "                        'Z1', # 2nd bin fraction ...\n",
    "                        'Z2',\n",
    "                        'Z3',\n",
    "                        'Z4',\n",
    "                        'Z5',\n",
    "                        'Z6',\n",
    "                        'Z7',\n",
    "                        'Z8',\n",
    "                        'Z9',\n",
    "                        'XAVG', # average sensor value over the window (per axis)\n",
    "                        'YAVG',\n",
    "                        'ZAVG',\n",
    "                        'XABSOLDEV', # Average absolute difference between the each of the 200 readings and the mean of those values (per axis)\n",
    "                        'YABSOLDEV',\n",
    "                        'ZABSOLDEV',\n",
    "                        'XSTANDDEV', # Standard deviation of the 200 window's values (per axis)  ***BUG!***\n",
    "                        'YSTANDDEV',\n",
    "                        'ZSTANDDEV',\n",
    "                        'XVAR', # Variance of the 200 window's values (per axis)   ***BUG!***\n",
    "                        'YVAR',\n",
    "                        'ZVAR',\n",
    "                        'XMFCC0', # short-term power spectrum of a wave, based on a linear cosine transform of a log power spectrum on a non-linear mel scale of frequency (13 values per axis)\n",
    "                        'XMFCC1',\n",
    "                        'XMFCC2',\n",
    "                        'XMFCC3',\n",
    "                        'XMFCC4',\n",
    "                        'XMFCC5',\n",
    "                        'XMFCC6',\n",
    "                        'XMFCC7',\n",
    "                        'XMFCC8',\n",
    "                        'XMFCC9',\n",
    "                        'XMFCC10',\n",
    "                        'XMFCC11',\n",
    "                        'XMFCC12',\n",
    "                        'YMFCC0', # short-term power spectrum of a wave, based on a linear cosine transform of a log power spectrum on a non-linear mel scale of frequency (13 values per axis)\n",
    "                        'YMFCC1',\n",
    "                        'YMFCC2',\n",
    "                        'YMFCC3',\n",
    "                        'YMFCC4',\n",
    "                        'YMFCC5',\n",
    "                        'YMFCC6',\n",
    "                        'YMFCC7',\n",
    "                        'YMFCC8',\n",
    "                        'YMFCC9',\n",
    "                        'YMFCC10',\n",
    "                        'YMFCC11',\n",
    "                        'YMFCC12',\n",
    "                        'ZMFCC0', # short-term power spectrum of a wave, based on a linear cosine transform of a log power spectrum on a non-linear mel scale of frequency (13 values per axis)\n",
    "                        'ZMFCC1',\n",
    "                        'ZMFCC2',\n",
    "                        'ZMFCC3',\n",
    "                        'ZMFCC4',\n",
    "                        'ZMFCC5',\n",
    "                        'ZMFCC6',\n",
    "                        'ZMFCC7',\n",
    "                        'ZMFCC8',\n",
    "                        'ZMFCC9',\n",
    "                        'ZMFCC10',\n",
    "                        'ZMFCC11',\n",
    "                        'ZMFCC12',\n",
    "                        'XYCOS', # The cosine distances between sensor values for pairs of axes (three pairs of axes)\n",
    "                        'XZCOS',\n",
    "                        'YZCOS',\n",
    "                        'XYCOR', # The correlation between sensor values for pairs of axes (three pairs of axes)\n",
    "                        'XZCOR',\n",
    "                        'YZCOR',\n",
    "                        'RESULTANT', # Average resultant value, computed by squaring each matching x, y, and z value, summing them, taking the square root, and then averaging these values over the 200 readings\n",
    "                        'PARTICIPANT'] # Categirical: 1600 -1650"
   ]
  },
  {
   "cell_type": "code",
   "execution_count": 15,
   "id": "dd1099d9-01cb-4499-a0d2-3c4dd1d44dd2",
   "metadata": {},
   "outputs": [],
   "source": [
    "def extract_feature(src_path, dst_path):\n",
    "    if not os.path.exists(dst_path):\n",
    "        os.makedirs(dst_path)\n",
    "    filelist_train = sorted([txt for txt in os.listdir(src_path + \"/\") if txt[-4:] == \".txt\"])\n",
    "    filelist_train\n",
    "\n",
    "    data_length=9999999999999999999\n",
    "    for idx, txt in enumerate(tqdm(filelist_train, desc=\"Scanning\", bar_format=PBAR_FORMAT)):\n",
    "        df = pd.read_csv(src_path+txt,\n",
    "                         names = ['participant_id' , 'activity_code' , 'timestamp', 'x', 'y', 'z'],\n",
    "                         index_col=None,\n",
    "                         header=None)\n",
    "        data_length = min(data_length, df['x'].to_numpy().shape[0]//WINDOW_SIZE)\n",
    "\n",
    "    print(data_length)\n",
    "\n",
    "    for idx, txt in enumerate(tqdm(filelist_train, desc=\"parsing data\", bar_format=PBAR_FORMAT)):\n",
    "        df = pd.read_csv(src_path+txt,\n",
    "                         names = ['participant_id' , 'activity_code' , 'timestamp', 'x', 'y', 'z'],\n",
    "                         index_col=None,\n",
    "                         header=None)\n",
    "        df_processed = pd.DataFrame()\n",
    "\n",
    "        df.z = df.z.str.strip(';')\n",
    "        df.z = pd.to_numeric(df.z)\n",
    "        x = df['x'].to_numpy()\n",
    "        y = df['y'].to_numpy()\n",
    "        z = df['z'].to_numpy()\n",
    "\n",
    "        # AVG\n",
    "        f_x = calc(x, WINDOW_SIZE, data_length, get_avg)\n",
    "        f_y = calc(y, WINDOW_SIZE, data_length, get_avg)\n",
    "        f_z = calc(z, WINDOW_SIZE, data_length, get_avg)\n",
    "\n",
    "        df_processed['XAVG'] = f_x\n",
    "        df_processed['YAVG'] = f_y\n",
    "        df_processed['ZAVG'] = f_z\n",
    "\n",
    "        # VAR\n",
    "        f_x = calc(x, WINDOW_SIZE, data_length, get_var)\n",
    "        f_y = calc(y, WINDOW_SIZE, data_length, get_var)\n",
    "        f_z = calc(z, WINDOW_SIZE, data_length, get_var)\n",
    "        df_processed['XVAR'] = f_x\n",
    "        df_processed['YVAR'] = f_y\n",
    "        df_processed['ZVAR'] = f_z\n",
    "\n",
    "\n",
    "        # STDDEV\n",
    "        f_x = calc(x, WINDOW_SIZE, data_length, get_stddev)\n",
    "        f_y = calc(y, WINDOW_SIZE, data_length, get_stddev)\n",
    "        f_z = calc(z, WINDOW_SIZE, data_length, get_stddev)\n",
    "        df_processed['XSTANDDEV'] = f_x\n",
    "        df_processed['YSTANDDEV'] = f_y\n",
    "        df_processed['ZSTANDDEV'] = f_z\n",
    "\n",
    "        # ABSOLDEV\n",
    "        f_x = calc(x, WINDOW_SIZE, data_length, get_absoldev)\n",
    "        f_y = calc(y, WINDOW_SIZE, data_length, get_absoldev)\n",
    "        f_z = calc(z, WINDOW_SIZE, data_length, get_absoldev)\n",
    "\n",
    "        df_processed['XABSOLDEV'] = f_x\n",
    "        df_processed['YABSOLDEV'] = f_y\n",
    "        df_processed['ZABSOLDEV'] = f_z\n",
    "\n",
    "        # COS\n",
    "        f_xy = calc_2i(x, y, WINDOW_SIZE, data_length, get_cos)\n",
    "        f_yz = calc_2i(y, z, WINDOW_SIZE, data_length, get_cos)\n",
    "        f_xz = calc_2i(x, z, WINDOW_SIZE, data_length, get_cos)\n",
    "\n",
    "        df_processed['XYCOS'] = f_xy\n",
    "        df_processed['YZCOS'] = f_yz\n",
    "        df_processed['XZCOS'] = f_xz\n",
    "\n",
    "        # COR\n",
    "        f_xy = calc_2i(x, y, WINDOW_SIZE, data_length, get_cor)\n",
    "        f_yz = calc_2i(y, z, WINDOW_SIZE, data_length, get_cor)\n",
    "        f_xz = calc_2i(x, z, WINDOW_SIZE, data_length, get_cor)\n",
    "\n",
    "        df_processed['XYCOR'] = f_xy\n",
    "        df_processed['YZCOR'] = f_yz\n",
    "        df_processed['XZCOR'] = f_xz\n",
    "\n",
    "        # resultant\n",
    "        res = calc_3i(x, y, z, WINDOW_SIZE, data_length, get_resultant)\n",
    "\n",
    "        df_processed['RESULTANT'] = res\n",
    "\n",
    "        # X0-X9, Y0-Y9, Z0-Z9\n",
    "        f_x = calc_bindist(x, 10, WINDOW_SIZE, data_length)\n",
    "        f_y = calc_bindist(y, 10, WINDOW_SIZE, data_length)\n",
    "        f_z = calc_bindist(z, 10, WINDOW_SIZE, data_length)\n",
    "\n",
    "        for i in range(10):\n",
    "            x_n = 'X'+str(i)\n",
    "            y_n = 'Y'+str(i)\n",
    "            z_n = 'Z'+str(i)\n",
    "            df_processed[x_n] = f_x[:,i]\n",
    "            df_processed[y_n] = f_y[:,i]\n",
    "            df_processed[z_n] = f_z[:,i]\n",
    "\n",
    "        f_x = compute_mfcc(x)\n",
    "        f_y = compute_mfcc(y)\n",
    "        f_z = compute_mfcc(z)\n",
    "        for i in range(13):\n",
    "            x_n = 'XMFCC'+str(i)\n",
    "            y_n = 'YMFCC'+str(i)\n",
    "            z_n = 'ZMFCC'+str(i)\n",
    "            df_processed[x_n] = f_x[i][0:data_length]\n",
    "            df_processed[y_n] = f_y[i][0:data_length]\n",
    "            df_processed[z_n] = f_z[i][0:data_length]\n",
    "\n",
    "        df_processed['PARTICIPANT'] = df['participant_id'][0:data_length]\n",
    "        df_processed['ACTIVITY'] = calc_activity(df['activity_code'].to_numpy(), WINDOW_SIZE, data_length)\n",
    "        df_processed = df_processed[extracted_features]\n",
    "        df_processed.to_csv(dst_path+txt, encoding='utf-8', index=False, header=False)\n",
    "\n"
   ]
  },
  {
   "cell_type": "code",
   "execution_count": 16,
   "id": "80f0fa2d-70f0-4697-a0f1-c0df5695a996",
   "metadata": {},
   "outputs": [
    {
     "name": "stderr",
     "output_type": "stream",
     "text": [
      "Scanning     100%|███████████████████████████| [   51/  51, 00:03<00:00 ]\n"
     ]
    },
    {
     "name": "stdout",
     "output_type": "stream",
     "text": [
      "303\n"
     ]
    },
    {
     "name": "stderr",
     "output_type": "stream",
     "text": [
      "parsing data 100%|███████████████████████████| [   51/  51, 00:20<00:00 ]\n"
     ]
    }
   ],
   "source": [
    "src_path=\"../dataset/raw/phone/accel/\"\n",
    "dst_path=\"../dataset/processed/phone/accel/\"\n",
    "extract_feature(src_path, dst_path)"
   ]
  },
  {
   "cell_type": "code",
   "execution_count": 17,
   "id": "f254186c-df90-4346-b003-e14480a1375e",
   "metadata": {},
   "outputs": [
    {
     "name": "stderr",
     "output_type": "stream",
     "text": [
      "Scanning     100%|███████████████████████████| [   51/  51, 00:02<00:00 ]\n"
     ]
    },
    {
     "name": "stdout",
     "output_type": "stream",
     "text": [
      "285\n"
     ]
    },
    {
     "name": "stderr",
     "output_type": "stream",
     "text": [
      "parsing data 100%|███████████████████████████| [   51/  51, 00:18<00:00 ]\n"
     ]
    }
   ],
   "source": [
    "src_path=\"../dataset/raw/phone/gyro/\"\n",
    "dst_path=\"../dataset/processed/phone/gyro/\"\n",
    "extract_feature(src_path, dst_path)"
   ]
  },
  {
   "cell_type": "code",
   "execution_count": 18,
   "id": "d1cb28e9-4a09-449c-ac93-4996aff6e051",
   "metadata": {},
   "outputs": [
    {
     "name": "stderr",
     "output_type": "stream",
     "text": [
      "Scanning     100%|███████████████████████████| [   51/  51, 00:02<00:00 ]\n"
     ]
    },
    {
     "name": "stdout",
     "output_type": "stream",
     "text": [
      "300\n"
     ]
    },
    {
     "name": "stderr",
     "output_type": "stream",
     "text": [
      "parsing data 100%|███████████████████████████| [   51/  51, 00:18<00:00 ]\n"
     ]
    }
   ],
   "source": [
    "src_path=\"../dataset/raw/watch/accel/\"\n",
    "dst_path=\"../dataset/processed/watch/accel/\"\n",
    "extract_feature(src_path, dst_path)"
   ]
  },
  {
   "cell_type": "code",
   "execution_count": 19,
   "id": "c10a8d3d-1877-4463-aedc-ced961e12d89",
   "metadata": {},
   "outputs": [
    {
     "name": "stderr",
     "output_type": "stream",
     "text": [
      "Scanning     100%|███████████████████████████| [   51/  51, 00:02<00:00 ]\n"
     ]
    },
    {
     "name": "stdout",
     "output_type": "stream",
     "text": [
      "300\n"
     ]
    },
    {
     "name": "stderr",
     "output_type": "stream",
     "text": [
      "parsing data 100%|███████████████████████████| [   51/  51, 00:18<00:00 ]\n"
     ]
    }
   ],
   "source": [
    "src_path=\"../dataset/raw/watch/gyro/\"\n",
    "dst_path=\"../dataset/processed/watch/gyro/\"\n",
    "extract_feature(src_path, dst_path)"
   ]
  },
  {
   "cell_type": "code",
   "execution_count": null,
   "id": "086037c6-b74b-48fc-a7c7-36a472013ef1",
   "metadata": {},
   "outputs": [],
   "source": []
  }
 ],
 "metadata": {
  "kernelspec": {
   "display_name": "Python 3 (ipykernel)",
   "language": "python",
   "name": "python3"
  },
  "language_info": {
   "codemirror_mode": {
    "name": "ipython",
    "version": 3
   },
   "file_extension": ".py",
   "mimetype": "text/x-python",
   "name": "python",
   "nbconvert_exporter": "python",
   "pygments_lexer": "ipython3",
   "version": "3.8.10"
  }
 },
 "nbformat": 4,
 "nbformat_minor": 5
}
